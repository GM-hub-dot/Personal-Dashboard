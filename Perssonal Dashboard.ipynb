{
 "cells": [
  {
   "cell_type": "markdown",
   "id": "5c37151d-a9d3-47c9-8a10-abc7a954cd4c",
   "metadata": {},
   "source": [
    "# Personal Dashboard\n",
    "## Bible sales \n",
    "### by Genesis Mead "
   ]
  },
  {
   "cell_type": "markdown",
   "id": "6e087666-9c67-45ff-8547-d185f834d901",
   "metadata": {},
   "source": [
    "This Python code is a web scraping script that retrieves and parses the content of a webpage to extract data or insights"
   ]
  },
  {
   "cell_type": "code",
   "execution_count": 9,
   "id": "c27c70f6-094d-48fb-82e4-9d6281c22bc5",
   "metadata": {},
   "outputs": [],
   "source": [
    "import requests\n",
    "from bs4 import BeautifulSoup\n",
    "url = \"https://wordsrated.com/bible-sales-statistics/\"\n",
    "headers = {\n",
    "    \"User-Agent\": \"Mozilla/5.0 (Windows NT 10.0; Win64; x64) AppleWebKit/537.36 (KHTML, like Gecko) Chrome/114.0.0.0 Safari/537.36\"\n",
    "}\n",
    "response = requests.get(url, headers=headers)\n",
    "if response.status_code == 200:\n",
    "    soup = BeautifulSoup(response.content, 'html.parser')"
   ]
  },
  {
   "cell_type": "markdown",
   "id": "55fb9bc7-b93d-4ef0-acbd-8d94f18c3440",
   "metadata": {},
   "source": [
    "This code snippet is part of a web scraping script, typically used to extract and process specific parts of a webpage using the Beautiful Soup library in Python."
   ]
  },
  {
   "cell_type": "code",
   "execution_count": 10,
   "id": "3ec73dd0-3039-4e99-bfce-36f77105e2c5",
   "metadata": {
    "scrolled": true
   },
   "outputs": [
    {
     "name": "stdout",
     "output_type": "stream",
     "text": [
      "The Bible makes up a large portion ofreligious book sales and revenue. In order to better understand its placein the book market, we researched, analyzed, and collected 32 bible sales statistics covering everything from how many bibles are sold, how many bibles are printed, and more.\n",
      "How many Bibles are printed every year?\n",
      "On average, there are 100 million bibles printed each year.It’s projected that there are more than 6 billion Bibles currently in print – 140% more than the estimated 2.5 billion copies in print as of 1975\n",
      "On average, there are 100 million bibles printed each year.\n",
      "It’s projected that there are more than 6 billion Bibles currently in print – 140% more than the estimated 2.5 billion copies in print as of 1975\n",
      "How many Bibles are sold per year?\n",
      "The number of bibles sold on average has more than doubled in the US since 1950 with:20 million bibles sold each year1.66 million bibles sold each month384,615 bibles sold per week54,945 bibles sold every day2,289 bibles sold per hour38 bibles sold per minute6.4 bibles sold every 10 secondsIn addition to the bibles sold, another 115,055 bibles are given away or distributed every dayThe US accounts for a quarter of newly printed bible sales every year\n",
      "The number of bibles sold on average has more than doubled in the US since 1950 with:20 million bibles sold each year1.66 million bibles sold each month384,615 bibles sold per week54,945 bibles sold every day2,289 bibles sold per hour38 bibles sold per minute6.4 bibles sold every 10 seconds\n",
      "20 million bibles sold each year1.66 million bibles sold each month384,615 bibles sold per week54,945 bibles sold every day2,289 bibles sold per hour38 bibles sold per minute6.4 bibles sold every 10 seconds\n",
      "20 million bibles sold each year\n",
      "1.66 million bibles sold each month\n",
      "384,615 bibles sold per week\n",
      "54,945 bibles sold every day\n",
      "2,289 bibles sold per hour\n",
      "38 bibles sold per minute\n",
      "6.4 bibles sold every 10 seconds\n",
      "In addition to the bibles sold, another 115,055 bibles are given away or distributed every day\n",
      "The US accounts for a quarter of newly printed bible sales every year\n",
      "Bible sales revenue per year\n",
      "Bible sales revenue per year is approximately $430 million as of 2020In the world today, there are more than 80,000 different versions of the Bible that generate at least 1 sale annually.\n",
      "Bible sales revenue per year is approximately $430 million as of 2020\n",
      "In the world today, there are more than 80,000 different versions of the Bible that generate at least 1 sale annually.\n",
      "Bible sales by publisher\n",
      "Gideon’s sold and distributed approximately 100 bibles per minute, or 59.5 million, in 2016The Good News version of the bible sold 18 million copies alone in 1995The Bible publisher Thomas Nelson sold for $473 million in 2005One Bible publisher, Zondervan, lists nearly 400 versions of the Bible as being in print and for sale\n",
      "Gideon’s sold and distributed approximately 100 bibles per minute, or 59.5 million, in 2016\n",
      "The Good News version of the bible sold 18 million copies alone in 1995\n",
      "The Bible publisher Thomas Nelson sold for $473 million in 2005\n",
      "One Bible publisher, Zondervan, lists nearly 400 versions of the Bible as being in print and for sale\n",
      "How many books are in the Bible\n",
      "The are 66 books in the protestant BibleThese are split in a number of ways, but the major differentiation is between the old testament and the new testament.The old testament deals with life before the birth of Jesus and prophecies of his coming.The new testament deals with the birth, life, and death of JesusThere are 39 books in the old testamentThere are 27 books in the new testament — broken down into the letters of church leaders and the 4 gospels of Matthew, Make, Luke, and John.There are 1,189 chapters and 31,173 verses in The BibleIn the Catholic Bible, there are 73 books — 46 in the old testament and 27 in the new testament\n",
      "The are 66 books in the protestant Bible\n",
      "These are split in a number of ways, but the major differentiation is between the old testament and the new testament.\n",
      "The old testament deals with life before the birth of Jesus and prophecies of his coming.\n",
      "The new testament deals with the birth, life, and death of Jesus\n",
      "There are 39 books in the old testament\n",
      "There are 27 books in the new testament — broken down into the letters of church leaders and the 4 gospels of Matthew, Make, Luke, and John.\n",
      "There are 1,189 chapters and 31,173 verses in The Bible\n",
      "In the Catholic Bible, there are 73 books — 46 in the old testament and 27 in the new testament\n",
      "Books of the Protestant Bible (King James Bible)\n",
      "Books of the Catholic Bible (New Jerusalem Bible)\n",
      "Bible sales by version or translation\n",
      "In the US, when Bible readers were surveyed as to which version or translation of the Bible they purchased and read, the data showed:\n",
      "When was The Bible written?\n",
      "The Bible was written over the course of more than 1,000 years — between 1200 BC and 100 AD.The old testament is made up of the ancient Jewish sacred scriptures that were written between 1200 BC and 165 BC.The new testament is thought to have been written between 50 AD and 100 AD\n",
      "The Bible was written over the course of more than 1,000 years — between 1200 BC and 100 AD.\n",
      "The old testament is made up of the ancient Jewish sacred scriptures that were written between 1200 BC and 165 BC.\n",
      "The new testament is thought to have been written between 50 AD and 100 AD\n",
      "Who wrote The Bible?\n",
      "There were thought to have been more than 40 authors of The BibleIt is known who 37 of the authors wereMoses was the first person to write any portion of The BibleJohn, the apostle, was the last person to write any part of The BibleThere are 29 known authors of the old testamentThere are 8 known authors of the new testament\n",
      "There were thought to have been more than 40 authors of The Bible\n",
      "It is known who 37 of the authors were\n",
      "Moses was the first person to write any portion of The Bible\n",
      "John, the apostle, was the last person to write any part of The Bible\n",
      "There are 29 known authors of the old testament\n",
      "There are 8 known authors of the new testament\n",
      "Writers of the old testament\n",
      "Writers of the new testament\n"
     ]
    }
   ],
   "source": [
    "content = soup.find('div', class_='entry-content')  # Locate the content section\n",
    "if content:\n",
    "        paragraphs = content.find_all(['p', 'h2', 'h3', 'ul', 'li'])\n",
    "        for para in paragraphs:\n",
    "            print(para.get_text(strip=True))  # Print cleaned text\n",
    "else:\n",
    "        print(\"Content section not found.\")"
   ]
  },
  {
   "cell_type": "markdown",
   "id": "5fea137a-7299-48b6-81bc-4d32cdd86c50",
   "metadata": {},
   "source": [
    "To create visiuals we must first download the programs that enable us to visualize the data."
   ]
  },
  {
   "cell_type": "code",
   "execution_count": 11,
   "id": "6d975366-b091-41ee-881a-04e8d54ab14a",
   "metadata": {
    "scrolled": true
   },
   "outputs": [
    {
     "name": "stdout",
     "output_type": "stream",
     "text": [
      "Defaulting to user installation because normal site-packages is not writeable\n",
      "Requirement already satisfied: plotly in /home/kendra/.local/lib/python3.10/site-packages (5.24.1)\n",
      "Requirement already satisfied: tenacity>=6.2.0 in /home/kendra/.local/lib/python3.10/site-packages (from plotly) (9.0.0)\n",
      "Requirement already satisfied: packaging in /home/kendra/.local/lib/python3.10/site-packages (from plotly) (24.1)\n",
      "Note: you may need to restart the kernel to use updated packages.\n"
     ]
    }
   ],
   "source": [
    "pip install plotly "
   ]
  },
  {
   "cell_type": "code",
   "execution_count": 12,
   "id": "66f9fd68-58b5-40b4-bf42-7b023d84c3ef",
   "metadata": {
    "scrolled": true
   },
   "outputs": [
    {
     "name": "stdout",
     "output_type": "stream",
     "text": [
      "Defaulting to user installation because normal site-packages is not writeable\n",
      "Requirement already satisfied: matplot in /home/kendra/.local/lib/python3.10/site-packages (0.1.9)\n",
      "Requirement already satisfied: pyloco>=0.0.134 in /home/kendra/.local/lib/python3.10/site-packages (from matplot) (0.0.139)\n",
      "Requirement already satisfied: matplotlib>=3.1.1 in /usr/lib/python3/dist-packages (from matplot) (3.5.1)\n",
      "Requirement already satisfied: typing in /home/kendra/.local/lib/python3.10/site-packages (from pyloco>=0.0.134->matplot) (3.7.4.3)\n",
      "Requirement already satisfied: twine in /home/kendra/.local/lib/python3.10/site-packages (from pyloco>=0.0.134->matplot) (6.0.1)\n",
      "Requirement already satisfied: ushlex in /home/kendra/.local/lib/python3.10/site-packages (from pyloco>=0.0.134->matplot) (0.99.1)\n",
      "Requirement already satisfied: SimpleWebSocketServer in /home/kendra/.local/lib/python3.10/site-packages (from pyloco>=0.0.134->matplot) (0.1.2)\n",
      "Requirement already satisfied: websocket-client in /home/kendra/.local/lib/python3.10/site-packages (from pyloco>=0.0.134->matplot) (1.8.0)\n",
      "Requirement already satisfied: pkginfo>=1.8.1 in /home/kendra/.local/lib/python3.10/site-packages (from twine->pyloco>=0.0.134->matplot) (1.12.0)\n",
      "Requirement already satisfied: requests>=2.20 in /home/kendra/.local/lib/python3.10/site-packages (from twine->pyloco>=0.0.134->matplot) (2.32.3)\n",
      "Requirement already satisfied: urllib3>=1.26.0 in /usr/lib/python3/dist-packages (from twine->pyloco>=0.0.134->matplot) (1.26.5)\n",
      "Requirement already satisfied: readme-renderer>=35.0 in /home/kendra/.local/lib/python3.10/site-packages (from twine->pyloco>=0.0.134->matplot) (44.0)\n",
      "Requirement already satisfied: rich>=12.0.0 in /home/kendra/.local/lib/python3.10/site-packages (from twine->pyloco>=0.0.134->matplot) (13.9.4)\n",
      "Requirement already satisfied: packaging in /home/kendra/.local/lib/python3.10/site-packages (from twine->pyloco>=0.0.134->matplot) (24.1)\n",
      "Requirement already satisfied: keyring>=15.1 in /usr/lib/python3/dist-packages (from twine->pyloco>=0.0.134->matplot) (23.5.0)\n",
      "Requirement already satisfied: rfc3986>=1.4.0 in /home/kendra/.local/lib/python3.10/site-packages (from twine->pyloco>=0.0.134->matplot) (2.0.0)\n",
      "Requirement already satisfied: requests-toolbelt!=0.9.0,>=0.8.0 in /home/kendra/.local/lib/python3.10/site-packages (from twine->pyloco>=0.0.134->matplot) (1.0.0)\n",
      "Requirement already satisfied: Pygments>=2.5.1 in /home/kendra/.local/lib/python3.10/site-packages (from readme-renderer>=35.0->twine->pyloco>=0.0.134->matplot) (2.18.0)\n",
      "Requirement already satisfied: nh3>=0.2.14 in /home/kendra/.local/lib/python3.10/site-packages (from readme-renderer>=35.0->twine->pyloco>=0.0.134->matplot) (0.2.19)\n",
      "Requirement already satisfied: docutils>=0.21.2 in /home/kendra/.local/lib/python3.10/site-packages (from readme-renderer>=35.0->twine->pyloco>=0.0.134->matplot) (0.21.2)\n",
      "Requirement already satisfied: charset-normalizer<4,>=2 in /home/kendra/.local/lib/python3.10/site-packages (from requests>=2.20->twine->pyloco>=0.0.134->matplot) (3.4.0)\n",
      "Requirement already satisfied: idna<4,>=2.5 in /usr/lib/python3/dist-packages (from requests>=2.20->twine->pyloco>=0.0.134->matplot) (3.3)\n",
      "Requirement already satisfied: certifi>=2017.4.17 in /usr/lib/python3/dist-packages (from requests>=2.20->twine->pyloco>=0.0.134->matplot) (2020.6.20)\n",
      "Requirement already satisfied: typing-extensions<5.0,>=4.0.0 in /home/kendra/.local/lib/python3.10/site-packages (from rich>=12.0.0->twine->pyloco>=0.0.134->matplot) (4.12.2)\n",
      "Requirement already satisfied: markdown-it-py>=2.2.0 in /home/kendra/.local/lib/python3.10/site-packages (from rich>=12.0.0->twine->pyloco>=0.0.134->matplot) (3.0.0)\n",
      "Requirement already satisfied: mdurl~=0.1 in /home/kendra/.local/lib/python3.10/site-packages (from markdown-it-py>=2.2.0->rich>=12.0.0->twine->pyloco>=0.0.134->matplot) (0.1.2)\n",
      "Note: you may need to restart the kernel to use updated packages.\n"
     ]
    }
   ],
   "source": [
    "pip install matplot"
   ]
  },
  {
   "cell_type": "markdown",
   "id": "41d39800-5c36-4add-999b-ed3ccb66f10a",
   "metadata": {},
   "source": [
    "While working with the first visual the version of numpy my device used would not produce the type of visual I wanted, so we must change the version that is being used."
   ]
  },
  {
   "cell_type": "markdown",
   "id": "ea8d69d5-bbf0-4479-8e02-159d39788d28",
   "metadata": {},
   "source": [
    "This code creates a bar graph that illistartaes the rate that Bibles are bought at."
   ]
  },
  {
   "cell_type": "code",
   "execution_count": 7,
   "id": "d8e24f37-8fc9-47e5-ba7b-679275689bb2",
   "metadata": {},
   "outputs": [
    {
     "data": {
      "application/vnd.plotly.v1+json": {
       "config": {
        "plotlyServerURL": "https://plot.ly"
       },
       "data": [
        {
         "alignmentgroup": "True",
         "hovertemplate": "Time=%{x}<br>Bibles sold=%{y}<extra></extra>",
         "legendgroup": "1 year",
         "marker": {
          "color": "#636efa",
          "pattern": {
           "shape": ""
          }
         },
         "name": "1 year",
         "offsetgroup": "1 year",
         "orientation": "v",
         "showlegend": true,
         "textposition": "auto",
         "type": "bar",
         "x": [
          "1 year"
         ],
         "xaxis": "x",
         "y": [
          "20 million"
         ],
         "yaxis": "y"
        },
        {
         "alignmentgroup": "True",
         "hovertemplate": "Time=%{x}<br>Bibles sold=%{y}<extra></extra>",
         "legendgroup": "1 month",
         "marker": {
          "color": "#EF553B",
          "pattern": {
           "shape": ""
          }
         },
         "name": "1 month",
         "offsetgroup": "1 month",
         "orientation": "v",
         "showlegend": true,
         "textposition": "auto",
         "type": "bar",
         "x": [
          "1 month"
         ],
         "xaxis": "x",
         "y": [
          "1.66 million"
         ],
         "yaxis": "y"
        },
        {
         "alignmentgroup": "True",
         "hovertemplate": "Time=%{x}<br>Bibles sold=%{y}<extra></extra>",
         "legendgroup": "1 week",
         "marker": {
          "color": "#00cc96",
          "pattern": {
           "shape": ""
          }
         },
         "name": "1 week",
         "offsetgroup": "1 week",
         "orientation": "v",
         "showlegend": true,
         "textposition": "auto",
         "type": "bar",
         "x": [
          "1 week"
         ],
         "xaxis": "x",
         "y": [
          "384,615"
         ],
         "yaxis": "y"
        },
        {
         "alignmentgroup": "True",
         "hovertemplate": "Time=%{x}<br>Bibles sold=%{y}<extra></extra>",
         "legendgroup": "1 day",
         "marker": {
          "color": "#ab63fa",
          "pattern": {
           "shape": ""
          }
         },
         "name": "1 day",
         "offsetgroup": "1 day",
         "orientation": "v",
         "showlegend": true,
         "textposition": "auto",
         "type": "bar",
         "x": [
          "1 day"
         ],
         "xaxis": "x",
         "y": [
          "54,945"
         ],
         "yaxis": "y"
        },
        {
         "alignmentgroup": "True",
         "hovertemplate": "Time=%{x}<br>Bibles sold=%{y}<extra></extra>",
         "legendgroup": "1 hour",
         "marker": {
          "color": "#FFA15A",
          "pattern": {
           "shape": ""
          }
         },
         "name": "1 hour",
         "offsetgroup": "1 hour",
         "orientation": "v",
         "showlegend": true,
         "textposition": "auto",
         "type": "bar",
         "x": [
          "1 hour"
         ],
         "xaxis": "x",
         "y": [
          "2,289"
         ],
         "yaxis": "y"
        },
        {
         "alignmentgroup": "True",
         "hovertemplate": "Time=%{x}<br>Bibles sold=%{y}<extra></extra>",
         "legendgroup": "1 minute",
         "marker": {
          "color": "#19d3f3",
          "pattern": {
           "shape": ""
          }
         },
         "name": "1 minute",
         "offsetgroup": "1 minute",
         "orientation": "v",
         "showlegend": true,
         "textposition": "auto",
         "type": "bar",
         "x": [
          "1 minute"
         ],
         "xaxis": "x",
         "y": [
          "28"
         ],
         "yaxis": "y"
        },
        {
         "alignmentgroup": "True",
         "hovertemplate": "Time=%{x}<br>Bibles sold=%{y}<extra></extra>",
         "legendgroup": "10 seconds",
         "marker": {
          "color": "#FF6692",
          "pattern": {
           "shape": ""
          }
         },
         "name": "10 seconds",
         "offsetgroup": "10 seconds",
         "orientation": "v",
         "showlegend": true,
         "textposition": "auto",
         "type": "bar",
         "x": [
          "10 seconds"
         ],
         "xaxis": "x",
         "y": [
          "6.4"
         ],
         "yaxis": "y"
        }
       ],
       "layout": {
        "barmode": "relative",
        "legend": {
         "title": {
          "text": "Time"
         },
         "tracegroupgap": 0
        },
        "template": {
         "data": {
          "bar": [
           {
            "error_x": {
             "color": "#2a3f5f"
            },
            "error_y": {
             "color": "#2a3f5f"
            },
            "marker": {
             "line": {
              "color": "#E5ECF6",
              "width": 0.5
             },
             "pattern": {
              "fillmode": "overlay",
              "size": 10,
              "solidity": 0.2
             }
            },
            "type": "bar"
           }
          ],
          "barpolar": [
           {
            "marker": {
             "line": {
              "color": "#E5ECF6",
              "width": 0.5
             },
             "pattern": {
              "fillmode": "overlay",
              "size": 10,
              "solidity": 0.2
             }
            },
            "type": "barpolar"
           }
          ],
          "carpet": [
           {
            "aaxis": {
             "endlinecolor": "#2a3f5f",
             "gridcolor": "white",
             "linecolor": "white",
             "minorgridcolor": "white",
             "startlinecolor": "#2a3f5f"
            },
            "baxis": {
             "endlinecolor": "#2a3f5f",
             "gridcolor": "white",
             "linecolor": "white",
             "minorgridcolor": "white",
             "startlinecolor": "#2a3f5f"
            },
            "type": "carpet"
           }
          ],
          "choropleth": [
           {
            "colorbar": {
             "outlinewidth": 0,
             "ticks": ""
            },
            "type": "choropleth"
           }
          ],
          "contour": [
           {
            "colorbar": {
             "outlinewidth": 0,
             "ticks": ""
            },
            "colorscale": [
             [
              0,
              "#0d0887"
             ],
             [
              0.1111111111111111,
              "#46039f"
             ],
             [
              0.2222222222222222,
              "#7201a8"
             ],
             [
              0.3333333333333333,
              "#9c179e"
             ],
             [
              0.4444444444444444,
              "#bd3786"
             ],
             [
              0.5555555555555556,
              "#d8576b"
             ],
             [
              0.6666666666666666,
              "#ed7953"
             ],
             [
              0.7777777777777778,
              "#fb9f3a"
             ],
             [
              0.8888888888888888,
              "#fdca26"
             ],
             [
              1,
              "#f0f921"
             ]
            ],
            "type": "contour"
           }
          ],
          "contourcarpet": [
           {
            "colorbar": {
             "outlinewidth": 0,
             "ticks": ""
            },
            "type": "contourcarpet"
           }
          ],
          "heatmap": [
           {
            "colorbar": {
             "outlinewidth": 0,
             "ticks": ""
            },
            "colorscale": [
             [
              0,
              "#0d0887"
             ],
             [
              0.1111111111111111,
              "#46039f"
             ],
             [
              0.2222222222222222,
              "#7201a8"
             ],
             [
              0.3333333333333333,
              "#9c179e"
             ],
             [
              0.4444444444444444,
              "#bd3786"
             ],
             [
              0.5555555555555556,
              "#d8576b"
             ],
             [
              0.6666666666666666,
              "#ed7953"
             ],
             [
              0.7777777777777778,
              "#fb9f3a"
             ],
             [
              0.8888888888888888,
              "#fdca26"
             ],
             [
              1,
              "#f0f921"
             ]
            ],
            "type": "heatmap"
           }
          ],
          "heatmapgl": [
           {
            "colorbar": {
             "outlinewidth": 0,
             "ticks": ""
            },
            "colorscale": [
             [
              0,
              "#0d0887"
             ],
             [
              0.1111111111111111,
              "#46039f"
             ],
             [
              0.2222222222222222,
              "#7201a8"
             ],
             [
              0.3333333333333333,
              "#9c179e"
             ],
             [
              0.4444444444444444,
              "#bd3786"
             ],
             [
              0.5555555555555556,
              "#d8576b"
             ],
             [
              0.6666666666666666,
              "#ed7953"
             ],
             [
              0.7777777777777778,
              "#fb9f3a"
             ],
             [
              0.8888888888888888,
              "#fdca26"
             ],
             [
              1,
              "#f0f921"
             ]
            ],
            "type": "heatmapgl"
           }
          ],
          "histogram": [
           {
            "marker": {
             "pattern": {
              "fillmode": "overlay",
              "size": 10,
              "solidity": 0.2
             }
            },
            "type": "histogram"
           }
          ],
          "histogram2d": [
           {
            "colorbar": {
             "outlinewidth": 0,
             "ticks": ""
            },
            "colorscale": [
             [
              0,
              "#0d0887"
             ],
             [
              0.1111111111111111,
              "#46039f"
             ],
             [
              0.2222222222222222,
              "#7201a8"
             ],
             [
              0.3333333333333333,
              "#9c179e"
             ],
             [
              0.4444444444444444,
              "#bd3786"
             ],
             [
              0.5555555555555556,
              "#d8576b"
             ],
             [
              0.6666666666666666,
              "#ed7953"
             ],
             [
              0.7777777777777778,
              "#fb9f3a"
             ],
             [
              0.8888888888888888,
              "#fdca26"
             ],
             [
              1,
              "#f0f921"
             ]
            ],
            "type": "histogram2d"
           }
          ],
          "histogram2dcontour": [
           {
            "colorbar": {
             "outlinewidth": 0,
             "ticks": ""
            },
            "colorscale": [
             [
              0,
              "#0d0887"
             ],
             [
              0.1111111111111111,
              "#46039f"
             ],
             [
              0.2222222222222222,
              "#7201a8"
             ],
             [
              0.3333333333333333,
              "#9c179e"
             ],
             [
              0.4444444444444444,
              "#bd3786"
             ],
             [
              0.5555555555555556,
              "#d8576b"
             ],
             [
              0.6666666666666666,
              "#ed7953"
             ],
             [
              0.7777777777777778,
              "#fb9f3a"
             ],
             [
              0.8888888888888888,
              "#fdca26"
             ],
             [
              1,
              "#f0f921"
             ]
            ],
            "type": "histogram2dcontour"
           }
          ],
          "mesh3d": [
           {
            "colorbar": {
             "outlinewidth": 0,
             "ticks": ""
            },
            "type": "mesh3d"
           }
          ],
          "parcoords": [
           {
            "line": {
             "colorbar": {
              "outlinewidth": 0,
              "ticks": ""
             }
            },
            "type": "parcoords"
           }
          ],
          "pie": [
           {
            "automargin": true,
            "type": "pie"
           }
          ],
          "scatter": [
           {
            "fillpattern": {
             "fillmode": "overlay",
             "size": 10,
             "solidity": 0.2
            },
            "type": "scatter"
           }
          ],
          "scatter3d": [
           {
            "line": {
             "colorbar": {
              "outlinewidth": 0,
              "ticks": ""
             }
            },
            "marker": {
             "colorbar": {
              "outlinewidth": 0,
              "ticks": ""
             }
            },
            "type": "scatter3d"
           }
          ],
          "scattercarpet": [
           {
            "marker": {
             "colorbar": {
              "outlinewidth": 0,
              "ticks": ""
             }
            },
            "type": "scattercarpet"
           }
          ],
          "scattergeo": [
           {
            "marker": {
             "colorbar": {
              "outlinewidth": 0,
              "ticks": ""
             }
            },
            "type": "scattergeo"
           }
          ],
          "scattergl": [
           {
            "marker": {
             "colorbar": {
              "outlinewidth": 0,
              "ticks": ""
             }
            },
            "type": "scattergl"
           }
          ],
          "scattermapbox": [
           {
            "marker": {
             "colorbar": {
              "outlinewidth": 0,
              "ticks": ""
             }
            },
            "type": "scattermapbox"
           }
          ],
          "scatterpolar": [
           {
            "marker": {
             "colorbar": {
              "outlinewidth": 0,
              "ticks": ""
             }
            },
            "type": "scatterpolar"
           }
          ],
          "scatterpolargl": [
           {
            "marker": {
             "colorbar": {
              "outlinewidth": 0,
              "ticks": ""
             }
            },
            "type": "scatterpolargl"
           }
          ],
          "scatterternary": [
           {
            "marker": {
             "colorbar": {
              "outlinewidth": 0,
              "ticks": ""
             }
            },
            "type": "scatterternary"
           }
          ],
          "surface": [
           {
            "colorbar": {
             "outlinewidth": 0,
             "ticks": ""
            },
            "colorscale": [
             [
              0,
              "#0d0887"
             ],
             [
              0.1111111111111111,
              "#46039f"
             ],
             [
              0.2222222222222222,
              "#7201a8"
             ],
             [
              0.3333333333333333,
              "#9c179e"
             ],
             [
              0.4444444444444444,
              "#bd3786"
             ],
             [
              0.5555555555555556,
              "#d8576b"
             ],
             [
              0.6666666666666666,
              "#ed7953"
             ],
             [
              0.7777777777777778,
              "#fb9f3a"
             ],
             [
              0.8888888888888888,
              "#fdca26"
             ],
             [
              1,
              "#f0f921"
             ]
            ],
            "type": "surface"
           }
          ],
          "table": [
           {
            "cells": {
             "fill": {
              "color": "#EBF0F8"
             },
             "line": {
              "color": "white"
             }
            },
            "header": {
             "fill": {
              "color": "#C8D4E3"
             },
             "line": {
              "color": "white"
             }
            },
            "type": "table"
           }
          ]
         },
         "layout": {
          "annotationdefaults": {
           "arrowcolor": "#2a3f5f",
           "arrowhead": 0,
           "arrowwidth": 1
          },
          "autotypenumbers": "strict",
          "coloraxis": {
           "colorbar": {
            "outlinewidth": 0,
            "ticks": ""
           }
          },
          "colorscale": {
           "diverging": [
            [
             0,
             "#8e0152"
            ],
            [
             0.1,
             "#c51b7d"
            ],
            [
             0.2,
             "#de77ae"
            ],
            [
             0.3,
             "#f1b6da"
            ],
            [
             0.4,
             "#fde0ef"
            ],
            [
             0.5,
             "#f7f7f7"
            ],
            [
             0.6,
             "#e6f5d0"
            ],
            [
             0.7,
             "#b8e186"
            ],
            [
             0.8,
             "#7fbc41"
            ],
            [
             0.9,
             "#4d9221"
            ],
            [
             1,
             "#276419"
            ]
           ],
           "sequential": [
            [
             0,
             "#0d0887"
            ],
            [
             0.1111111111111111,
             "#46039f"
            ],
            [
             0.2222222222222222,
             "#7201a8"
            ],
            [
             0.3333333333333333,
             "#9c179e"
            ],
            [
             0.4444444444444444,
             "#bd3786"
            ],
            [
             0.5555555555555556,
             "#d8576b"
            ],
            [
             0.6666666666666666,
             "#ed7953"
            ],
            [
             0.7777777777777778,
             "#fb9f3a"
            ],
            [
             0.8888888888888888,
             "#fdca26"
            ],
            [
             1,
             "#f0f921"
            ]
           ],
           "sequentialminus": [
            [
             0,
             "#0d0887"
            ],
            [
             0.1111111111111111,
             "#46039f"
            ],
            [
             0.2222222222222222,
             "#7201a8"
            ],
            [
             0.3333333333333333,
             "#9c179e"
            ],
            [
             0.4444444444444444,
             "#bd3786"
            ],
            [
             0.5555555555555556,
             "#d8576b"
            ],
            [
             0.6666666666666666,
             "#ed7953"
            ],
            [
             0.7777777777777778,
             "#fb9f3a"
            ],
            [
             0.8888888888888888,
             "#fdca26"
            ],
            [
             1,
             "#f0f921"
            ]
           ]
          },
          "colorway": [
           "#636efa",
           "#EF553B",
           "#00cc96",
           "#ab63fa",
           "#FFA15A",
           "#19d3f3",
           "#FF6692",
           "#B6E880",
           "#FF97FF",
           "#FECB52"
          ],
          "font": {
           "color": "#2a3f5f"
          },
          "geo": {
           "bgcolor": "white",
           "lakecolor": "white",
           "landcolor": "#E5ECF6",
           "showlakes": true,
           "showland": true,
           "subunitcolor": "white"
          },
          "hoverlabel": {
           "align": "left"
          },
          "hovermode": "closest",
          "mapbox": {
           "style": "light"
          },
          "paper_bgcolor": "white",
          "plot_bgcolor": "#E5ECF6",
          "polar": {
           "angularaxis": {
            "gridcolor": "white",
            "linecolor": "white",
            "ticks": ""
           },
           "bgcolor": "#E5ECF6",
           "radialaxis": {
            "gridcolor": "white",
            "linecolor": "white",
            "ticks": ""
           }
          },
          "scene": {
           "xaxis": {
            "backgroundcolor": "#E5ECF6",
            "gridcolor": "white",
            "gridwidth": 2,
            "linecolor": "white",
            "showbackground": true,
            "ticks": "",
            "zerolinecolor": "white"
           },
           "yaxis": {
            "backgroundcolor": "#E5ECF6",
            "gridcolor": "white",
            "gridwidth": 2,
            "linecolor": "white",
            "showbackground": true,
            "ticks": "",
            "zerolinecolor": "white"
           },
           "zaxis": {
            "backgroundcolor": "#E5ECF6",
            "gridcolor": "white",
            "gridwidth": 2,
            "linecolor": "white",
            "showbackground": true,
            "ticks": "",
            "zerolinecolor": "white"
           }
          },
          "shapedefaults": {
           "line": {
            "color": "#2a3f5f"
           }
          },
          "ternary": {
           "aaxis": {
            "gridcolor": "white",
            "linecolor": "white",
            "ticks": ""
           },
           "baxis": {
            "gridcolor": "white",
            "linecolor": "white",
            "ticks": ""
           },
           "bgcolor": "#E5ECF6",
           "caxis": {
            "gridcolor": "white",
            "linecolor": "white",
            "ticks": ""
           }
          },
          "title": {
           "x": 0.05
          },
          "xaxis": {
           "automargin": true,
           "gridcolor": "white",
           "linecolor": "white",
           "ticks": "",
           "title": {
            "standoff": 15
           },
           "zerolinecolor": "white",
           "zerolinewidth": 2
          },
          "yaxis": {
           "automargin": true,
           "gridcolor": "white",
           "linecolor": "white",
           "ticks": "",
           "title": {
            "standoff": 15
           },
           "zerolinecolor": "white",
           "zerolinewidth": 2
          }
         }
        },
        "title": {
         "text": "Bibles sold by Time "
        },
        "xaxis": {
         "anchor": "y",
         "categoryarray": [
          "1 year",
          "1 month",
          "1 week",
          "1 day",
          "1 hour",
          "1 minute",
          "10 seconds"
         ],
         "categoryorder": "array",
         "domain": [
          0,
          1
         ],
         "title": {
          "text": "Time"
         }
        },
        "yaxis": {
         "anchor": "x",
         "domain": [
          0,
          1
         ],
         "title": {
          "text": "Bibles sold"
         }
        }
       }
      },
      "text/html": [
       "<div>                            <div id=\"24c0cd0e-2c35-4ea8-b190-8b843c4dd78c\" class=\"plotly-graph-div\" style=\"height:525px; width:100%;\"></div>            <script type=\"text/javascript\">                require([\"plotly\"], function(Plotly) {                    window.PLOTLYENV=window.PLOTLYENV || {};                                    if (document.getElementById(\"24c0cd0e-2c35-4ea8-b190-8b843c4dd78c\")) {                    Plotly.newPlot(                        \"24c0cd0e-2c35-4ea8-b190-8b843c4dd78c\",                        [{\"alignmentgroup\":\"True\",\"hovertemplate\":\"Time=%{x}\\u003cbr\\u003eBibles sold=%{y}\\u003cextra\\u003e\\u003c\\u002fextra\\u003e\",\"legendgroup\":\"1 year\",\"marker\":{\"color\":\"#636efa\",\"pattern\":{\"shape\":\"\"}},\"name\":\"1 year\",\"offsetgroup\":\"1 year\",\"orientation\":\"v\",\"showlegend\":true,\"textposition\":\"auto\",\"x\":[\"1 year\"],\"xaxis\":\"x\",\"y\":[\"20 million\"],\"yaxis\":\"y\",\"type\":\"bar\"},{\"alignmentgroup\":\"True\",\"hovertemplate\":\"Time=%{x}\\u003cbr\\u003eBibles sold=%{y}\\u003cextra\\u003e\\u003c\\u002fextra\\u003e\",\"legendgroup\":\"1 month\",\"marker\":{\"color\":\"#EF553B\",\"pattern\":{\"shape\":\"\"}},\"name\":\"1 month\",\"offsetgroup\":\"1 month\",\"orientation\":\"v\",\"showlegend\":true,\"textposition\":\"auto\",\"x\":[\"1 month\"],\"xaxis\":\"x\",\"y\":[\"1.66 million\"],\"yaxis\":\"y\",\"type\":\"bar\"},{\"alignmentgroup\":\"True\",\"hovertemplate\":\"Time=%{x}\\u003cbr\\u003eBibles sold=%{y}\\u003cextra\\u003e\\u003c\\u002fextra\\u003e\",\"legendgroup\":\"1 week\",\"marker\":{\"color\":\"#00cc96\",\"pattern\":{\"shape\":\"\"}},\"name\":\"1 week\",\"offsetgroup\":\"1 week\",\"orientation\":\"v\",\"showlegend\":true,\"textposition\":\"auto\",\"x\":[\"1 week\"],\"xaxis\":\"x\",\"y\":[\"384,615\"],\"yaxis\":\"y\",\"type\":\"bar\"},{\"alignmentgroup\":\"True\",\"hovertemplate\":\"Time=%{x}\\u003cbr\\u003eBibles sold=%{y}\\u003cextra\\u003e\\u003c\\u002fextra\\u003e\",\"legendgroup\":\"1 day\",\"marker\":{\"color\":\"#ab63fa\",\"pattern\":{\"shape\":\"\"}},\"name\":\"1 day\",\"offsetgroup\":\"1 day\",\"orientation\":\"v\",\"showlegend\":true,\"textposition\":\"auto\",\"x\":[\"1 day\"],\"xaxis\":\"x\",\"y\":[\"54,945\"],\"yaxis\":\"y\",\"type\":\"bar\"},{\"alignmentgroup\":\"True\",\"hovertemplate\":\"Time=%{x}\\u003cbr\\u003eBibles sold=%{y}\\u003cextra\\u003e\\u003c\\u002fextra\\u003e\",\"legendgroup\":\"1 hour\",\"marker\":{\"color\":\"#FFA15A\",\"pattern\":{\"shape\":\"\"}},\"name\":\"1 hour\",\"offsetgroup\":\"1 hour\",\"orientation\":\"v\",\"showlegend\":true,\"textposition\":\"auto\",\"x\":[\"1 hour\"],\"xaxis\":\"x\",\"y\":[\"2,289\"],\"yaxis\":\"y\",\"type\":\"bar\"},{\"alignmentgroup\":\"True\",\"hovertemplate\":\"Time=%{x}\\u003cbr\\u003eBibles sold=%{y}\\u003cextra\\u003e\\u003c\\u002fextra\\u003e\",\"legendgroup\":\"1 minute\",\"marker\":{\"color\":\"#19d3f3\",\"pattern\":{\"shape\":\"\"}},\"name\":\"1 minute\",\"offsetgroup\":\"1 minute\",\"orientation\":\"v\",\"showlegend\":true,\"textposition\":\"auto\",\"x\":[\"1 minute\"],\"xaxis\":\"x\",\"y\":[\"28\"],\"yaxis\":\"y\",\"type\":\"bar\"},{\"alignmentgroup\":\"True\",\"hovertemplate\":\"Time=%{x}\\u003cbr\\u003eBibles sold=%{y}\\u003cextra\\u003e\\u003c\\u002fextra\\u003e\",\"legendgroup\":\"10 seconds\",\"marker\":{\"color\":\"#FF6692\",\"pattern\":{\"shape\":\"\"}},\"name\":\"10 seconds\",\"offsetgroup\":\"10 seconds\",\"orientation\":\"v\",\"showlegend\":true,\"textposition\":\"auto\",\"x\":[\"10 seconds\"],\"xaxis\":\"x\",\"y\":[\"6.4\"],\"yaxis\":\"y\",\"type\":\"bar\"}],                        {\"template\":{\"data\":{\"histogram2dcontour\":[{\"type\":\"histogram2dcontour\",\"colorbar\":{\"outlinewidth\":0,\"ticks\":\"\"},\"colorscale\":[[0.0,\"#0d0887\"],[0.1111111111111111,\"#46039f\"],[0.2222222222222222,\"#7201a8\"],[0.3333333333333333,\"#9c179e\"],[0.4444444444444444,\"#bd3786\"],[0.5555555555555556,\"#d8576b\"],[0.6666666666666666,\"#ed7953\"],[0.7777777777777778,\"#fb9f3a\"],[0.8888888888888888,\"#fdca26\"],[1.0,\"#f0f921\"]]}],\"choropleth\":[{\"type\":\"choropleth\",\"colorbar\":{\"outlinewidth\":0,\"ticks\":\"\"}}],\"histogram2d\":[{\"type\":\"histogram2d\",\"colorbar\":{\"outlinewidth\":0,\"ticks\":\"\"},\"colorscale\":[[0.0,\"#0d0887\"],[0.1111111111111111,\"#46039f\"],[0.2222222222222222,\"#7201a8\"],[0.3333333333333333,\"#9c179e\"],[0.4444444444444444,\"#bd3786\"],[0.5555555555555556,\"#d8576b\"],[0.6666666666666666,\"#ed7953\"],[0.7777777777777778,\"#fb9f3a\"],[0.8888888888888888,\"#fdca26\"],[1.0,\"#f0f921\"]]}],\"heatmap\":[{\"type\":\"heatmap\",\"colorbar\":{\"outlinewidth\":0,\"ticks\":\"\"},\"colorscale\":[[0.0,\"#0d0887\"],[0.1111111111111111,\"#46039f\"],[0.2222222222222222,\"#7201a8\"],[0.3333333333333333,\"#9c179e\"],[0.4444444444444444,\"#bd3786\"],[0.5555555555555556,\"#d8576b\"],[0.6666666666666666,\"#ed7953\"],[0.7777777777777778,\"#fb9f3a\"],[0.8888888888888888,\"#fdca26\"],[1.0,\"#f0f921\"]]}],\"heatmapgl\":[{\"type\":\"heatmapgl\",\"colorbar\":{\"outlinewidth\":0,\"ticks\":\"\"},\"colorscale\":[[0.0,\"#0d0887\"],[0.1111111111111111,\"#46039f\"],[0.2222222222222222,\"#7201a8\"],[0.3333333333333333,\"#9c179e\"],[0.4444444444444444,\"#bd3786\"],[0.5555555555555556,\"#d8576b\"],[0.6666666666666666,\"#ed7953\"],[0.7777777777777778,\"#fb9f3a\"],[0.8888888888888888,\"#fdca26\"],[1.0,\"#f0f921\"]]}],\"contourcarpet\":[{\"type\":\"contourcarpet\",\"colorbar\":{\"outlinewidth\":0,\"ticks\":\"\"}}],\"contour\":[{\"type\":\"contour\",\"colorbar\":{\"outlinewidth\":0,\"ticks\":\"\"},\"colorscale\":[[0.0,\"#0d0887\"],[0.1111111111111111,\"#46039f\"],[0.2222222222222222,\"#7201a8\"],[0.3333333333333333,\"#9c179e\"],[0.4444444444444444,\"#bd3786\"],[0.5555555555555556,\"#d8576b\"],[0.6666666666666666,\"#ed7953\"],[0.7777777777777778,\"#fb9f3a\"],[0.8888888888888888,\"#fdca26\"],[1.0,\"#f0f921\"]]}],\"surface\":[{\"type\":\"surface\",\"colorbar\":{\"outlinewidth\":0,\"ticks\":\"\"},\"colorscale\":[[0.0,\"#0d0887\"],[0.1111111111111111,\"#46039f\"],[0.2222222222222222,\"#7201a8\"],[0.3333333333333333,\"#9c179e\"],[0.4444444444444444,\"#bd3786\"],[0.5555555555555556,\"#d8576b\"],[0.6666666666666666,\"#ed7953\"],[0.7777777777777778,\"#fb9f3a\"],[0.8888888888888888,\"#fdca26\"],[1.0,\"#f0f921\"]]}],\"mesh3d\":[{\"type\":\"mesh3d\",\"colorbar\":{\"outlinewidth\":0,\"ticks\":\"\"}}],\"scatter\":[{\"fillpattern\":{\"fillmode\":\"overlay\",\"size\":10,\"solidity\":0.2},\"type\":\"scatter\"}],\"parcoords\":[{\"type\":\"parcoords\",\"line\":{\"colorbar\":{\"outlinewidth\":0,\"ticks\":\"\"}}}],\"scatterpolargl\":[{\"type\":\"scatterpolargl\",\"marker\":{\"colorbar\":{\"outlinewidth\":0,\"ticks\":\"\"}}}],\"bar\":[{\"error_x\":{\"color\":\"#2a3f5f\"},\"error_y\":{\"color\":\"#2a3f5f\"},\"marker\":{\"line\":{\"color\":\"#E5ECF6\",\"width\":0.5},\"pattern\":{\"fillmode\":\"overlay\",\"size\":10,\"solidity\":0.2}},\"type\":\"bar\"}],\"scattergeo\":[{\"type\":\"scattergeo\",\"marker\":{\"colorbar\":{\"outlinewidth\":0,\"ticks\":\"\"}}}],\"scatterpolar\":[{\"type\":\"scatterpolar\",\"marker\":{\"colorbar\":{\"outlinewidth\":0,\"ticks\":\"\"}}}],\"histogram\":[{\"marker\":{\"pattern\":{\"fillmode\":\"overlay\",\"size\":10,\"solidity\":0.2}},\"type\":\"histogram\"}],\"scattergl\":[{\"type\":\"scattergl\",\"marker\":{\"colorbar\":{\"outlinewidth\":0,\"ticks\":\"\"}}}],\"scatter3d\":[{\"type\":\"scatter3d\",\"line\":{\"colorbar\":{\"outlinewidth\":0,\"ticks\":\"\"}},\"marker\":{\"colorbar\":{\"outlinewidth\":0,\"ticks\":\"\"}}}],\"scattermapbox\":[{\"type\":\"scattermapbox\",\"marker\":{\"colorbar\":{\"outlinewidth\":0,\"ticks\":\"\"}}}],\"scatterternary\":[{\"type\":\"scatterternary\",\"marker\":{\"colorbar\":{\"outlinewidth\":0,\"ticks\":\"\"}}}],\"scattercarpet\":[{\"type\":\"scattercarpet\",\"marker\":{\"colorbar\":{\"outlinewidth\":0,\"ticks\":\"\"}}}],\"carpet\":[{\"aaxis\":{\"endlinecolor\":\"#2a3f5f\",\"gridcolor\":\"white\",\"linecolor\":\"white\",\"minorgridcolor\":\"white\",\"startlinecolor\":\"#2a3f5f\"},\"baxis\":{\"endlinecolor\":\"#2a3f5f\",\"gridcolor\":\"white\",\"linecolor\":\"white\",\"minorgridcolor\":\"white\",\"startlinecolor\":\"#2a3f5f\"},\"type\":\"carpet\"}],\"table\":[{\"cells\":{\"fill\":{\"color\":\"#EBF0F8\"},\"line\":{\"color\":\"white\"}},\"header\":{\"fill\":{\"color\":\"#C8D4E3\"},\"line\":{\"color\":\"white\"}},\"type\":\"table\"}],\"barpolar\":[{\"marker\":{\"line\":{\"color\":\"#E5ECF6\",\"width\":0.5},\"pattern\":{\"fillmode\":\"overlay\",\"size\":10,\"solidity\":0.2}},\"type\":\"barpolar\"}],\"pie\":[{\"automargin\":true,\"type\":\"pie\"}]},\"layout\":{\"autotypenumbers\":\"strict\",\"colorway\":[\"#636efa\",\"#EF553B\",\"#00cc96\",\"#ab63fa\",\"#FFA15A\",\"#19d3f3\",\"#FF6692\",\"#B6E880\",\"#FF97FF\",\"#FECB52\"],\"font\":{\"color\":\"#2a3f5f\"},\"hovermode\":\"closest\",\"hoverlabel\":{\"align\":\"left\"},\"paper_bgcolor\":\"white\",\"plot_bgcolor\":\"#E5ECF6\",\"polar\":{\"bgcolor\":\"#E5ECF6\",\"angularaxis\":{\"gridcolor\":\"white\",\"linecolor\":\"white\",\"ticks\":\"\"},\"radialaxis\":{\"gridcolor\":\"white\",\"linecolor\":\"white\",\"ticks\":\"\"}},\"ternary\":{\"bgcolor\":\"#E5ECF6\",\"aaxis\":{\"gridcolor\":\"white\",\"linecolor\":\"white\",\"ticks\":\"\"},\"baxis\":{\"gridcolor\":\"white\",\"linecolor\":\"white\",\"ticks\":\"\"},\"caxis\":{\"gridcolor\":\"white\",\"linecolor\":\"white\",\"ticks\":\"\"}},\"coloraxis\":{\"colorbar\":{\"outlinewidth\":0,\"ticks\":\"\"}},\"colorscale\":{\"sequential\":[[0.0,\"#0d0887\"],[0.1111111111111111,\"#46039f\"],[0.2222222222222222,\"#7201a8\"],[0.3333333333333333,\"#9c179e\"],[0.4444444444444444,\"#bd3786\"],[0.5555555555555556,\"#d8576b\"],[0.6666666666666666,\"#ed7953\"],[0.7777777777777778,\"#fb9f3a\"],[0.8888888888888888,\"#fdca26\"],[1.0,\"#f0f921\"]],\"sequentialminus\":[[0.0,\"#0d0887\"],[0.1111111111111111,\"#46039f\"],[0.2222222222222222,\"#7201a8\"],[0.3333333333333333,\"#9c179e\"],[0.4444444444444444,\"#bd3786\"],[0.5555555555555556,\"#d8576b\"],[0.6666666666666666,\"#ed7953\"],[0.7777777777777778,\"#fb9f3a\"],[0.8888888888888888,\"#fdca26\"],[1.0,\"#f0f921\"]],\"diverging\":[[0,\"#8e0152\"],[0.1,\"#c51b7d\"],[0.2,\"#de77ae\"],[0.3,\"#f1b6da\"],[0.4,\"#fde0ef\"],[0.5,\"#f7f7f7\"],[0.6,\"#e6f5d0\"],[0.7,\"#b8e186\"],[0.8,\"#7fbc41\"],[0.9,\"#4d9221\"],[1,\"#276419\"]]},\"xaxis\":{\"gridcolor\":\"white\",\"linecolor\":\"white\",\"ticks\":\"\",\"title\":{\"standoff\":15},\"zerolinecolor\":\"white\",\"automargin\":true,\"zerolinewidth\":2},\"yaxis\":{\"gridcolor\":\"white\",\"linecolor\":\"white\",\"ticks\":\"\",\"title\":{\"standoff\":15},\"zerolinecolor\":\"white\",\"automargin\":true,\"zerolinewidth\":2},\"scene\":{\"xaxis\":{\"backgroundcolor\":\"#E5ECF6\",\"gridcolor\":\"white\",\"linecolor\":\"white\",\"showbackground\":true,\"ticks\":\"\",\"zerolinecolor\":\"white\",\"gridwidth\":2},\"yaxis\":{\"backgroundcolor\":\"#E5ECF6\",\"gridcolor\":\"white\",\"linecolor\":\"white\",\"showbackground\":true,\"ticks\":\"\",\"zerolinecolor\":\"white\",\"gridwidth\":2},\"zaxis\":{\"backgroundcolor\":\"#E5ECF6\",\"gridcolor\":\"white\",\"linecolor\":\"white\",\"showbackground\":true,\"ticks\":\"\",\"zerolinecolor\":\"white\",\"gridwidth\":2}},\"shapedefaults\":{\"line\":{\"color\":\"#2a3f5f\"}},\"annotationdefaults\":{\"arrowcolor\":\"#2a3f5f\",\"arrowhead\":0,\"arrowwidth\":1},\"geo\":{\"bgcolor\":\"white\",\"landcolor\":\"#E5ECF6\",\"subunitcolor\":\"white\",\"showland\":true,\"showlakes\":true,\"lakecolor\":\"white\"},\"title\":{\"x\":0.05},\"mapbox\":{\"style\":\"light\"}}},\"xaxis\":{\"anchor\":\"y\",\"domain\":[0.0,1.0],\"title\":{\"text\":\"Time\"},\"categoryorder\":\"array\",\"categoryarray\":[\"1 year\",\"1 month\",\"1 week\",\"1 day\",\"1 hour\",\"1 minute\",\"10 seconds\"]},\"yaxis\":{\"anchor\":\"x\",\"domain\":[0.0,1.0],\"title\":{\"text\":\"Bibles sold\"}},\"legend\":{\"title\":{\"text\":\"Time\"},\"tracegroupgap\":0},\"title\":{\"text\":\"Bibles sold by Time \"},\"barmode\":\"relative\"},                        {\"responsive\": true}                    ).then(function(){\n",
       "                            \n",
       "var gd = document.getElementById('24c0cd0e-2c35-4ea8-b190-8b843c4dd78c');\n",
       "var x = new MutationObserver(function (mutations, observer) {{\n",
       "        var display = window.getComputedStyle(gd).display;\n",
       "        if (!display || display === 'none') {{\n",
       "            console.log([gd, 'removed!']);\n",
       "            Plotly.purge(gd);\n",
       "            observer.disconnect();\n",
       "        }}\n",
       "}});\n",
       "\n",
       "// Listen for the removal of the full notebook cells\n",
       "var notebookContainer = gd.closest('#notebook-container');\n",
       "if (notebookContainer) {{\n",
       "    x.observe(notebookContainer, {childList: true});\n",
       "}}\n",
       "\n",
       "// Listen for the clearing of the current output cell\n",
       "var outputEl = gd.closest('.output');\n",
       "if (outputEl) {{\n",
       "    x.observe(outputEl, {childList: true});\n",
       "}}\n",
       "\n",
       "                        })                };                });            </script>        </div>"
      ]
     },
     "metadata": {},
     "output_type": "display_data"
    }
   ],
   "source": [
    "import plotly.express as px \n",
    "import pandas as pd\n",
    "data = { 'Time': ['1 year', '1 month', '1 week', '1 day', '1 hour', '1 minute', '10 seconds'], 'Bibles sold': ['20 million', '1.66 million', '384,615', '54,945', '2,289', '28', '6.4'] } \n",
    "df = pd.DataFrame(data) \n",
    "fig = px.bar(df, x='Time', y='Bibles sold', \n",
    "             title='Bibles sold by Time ', \n",
    "             labels={'Time': 'Time', 'Bibles sold': 'Bibles sold'}, \n",
    "             color='Time') \n",
    "fig.show()"
   ]
  },
  {
   "cell_type": "markdown",
   "id": "53603d28-2c1b-44fb-ac84-d861002bf223",
   "metadata": {},
   "source": [
    "This chunk of code will create a pie chart that shows that percentage different translations are bought at. "
   ]
  },
  {
   "cell_type": "code",
   "execution_count": 2,
   "id": "6414a257-158c-498f-945e-eb7b4d719787",
   "metadata": {
    "scrolled": true
   },
   "outputs": [
    {
     "data": {
      "application/vnd.plotly.v1+json": {
       "config": {
        "plotlyServerURL": "https://plot.ly"
       },
       "data": [
        {
         "domain": {
          "x": [
           0,
           1
          ],
          "y": [
           0,
           1
          ]
         },
         "hovertemplate": "Bible_Translation=%{label}<br>Sales=%{value}<extra></extra>",
         "labels": [
          "KJV",
          "NIV",
          "ESV",
          "NKJV",
          "Amplified",
          "Christian Community",
          "NAS",
          "NLT",
          "Revised Standard",
          "CEV",
          "NAB",
          "other",
          "not sure"
         ],
         "legendgroup": "",
         "name": "",
         "showlegend": true,
         "type": "pie",
         "values": [
          31,
          13,
          9,
          7,
          7,
          4,
          3,
          2,
          2,
          2,
          2,
          9,
          8
         ]
        }
       ],
       "layout": {
        "legend": {
         "tracegroupgap": 0
        },
        "template": {
         "data": {
          "bar": [
           {
            "error_x": {
             "color": "#2a3f5f"
            },
            "error_y": {
             "color": "#2a3f5f"
            },
            "marker": {
             "line": {
              "color": "#E5ECF6",
              "width": 0.5
             },
             "pattern": {
              "fillmode": "overlay",
              "size": 10,
              "solidity": 0.2
             }
            },
            "type": "bar"
           }
          ],
          "barpolar": [
           {
            "marker": {
             "line": {
              "color": "#E5ECF6",
              "width": 0.5
             },
             "pattern": {
              "fillmode": "overlay",
              "size": 10,
              "solidity": 0.2
             }
            },
            "type": "barpolar"
           }
          ],
          "carpet": [
           {
            "aaxis": {
             "endlinecolor": "#2a3f5f",
             "gridcolor": "white",
             "linecolor": "white",
             "minorgridcolor": "white",
             "startlinecolor": "#2a3f5f"
            },
            "baxis": {
             "endlinecolor": "#2a3f5f",
             "gridcolor": "white",
             "linecolor": "white",
             "minorgridcolor": "white",
             "startlinecolor": "#2a3f5f"
            },
            "type": "carpet"
           }
          ],
          "choropleth": [
           {
            "colorbar": {
             "outlinewidth": 0,
             "ticks": ""
            },
            "type": "choropleth"
           }
          ],
          "contour": [
           {
            "colorbar": {
             "outlinewidth": 0,
             "ticks": ""
            },
            "colorscale": [
             [
              0,
              "#0d0887"
             ],
             [
              0.1111111111111111,
              "#46039f"
             ],
             [
              0.2222222222222222,
              "#7201a8"
             ],
             [
              0.3333333333333333,
              "#9c179e"
             ],
             [
              0.4444444444444444,
              "#bd3786"
             ],
             [
              0.5555555555555556,
              "#d8576b"
             ],
             [
              0.6666666666666666,
              "#ed7953"
             ],
             [
              0.7777777777777778,
              "#fb9f3a"
             ],
             [
              0.8888888888888888,
              "#fdca26"
             ],
             [
              1,
              "#f0f921"
             ]
            ],
            "type": "contour"
           }
          ],
          "contourcarpet": [
           {
            "colorbar": {
             "outlinewidth": 0,
             "ticks": ""
            },
            "type": "contourcarpet"
           }
          ],
          "heatmap": [
           {
            "colorbar": {
             "outlinewidth": 0,
             "ticks": ""
            },
            "colorscale": [
             [
              0,
              "#0d0887"
             ],
             [
              0.1111111111111111,
              "#46039f"
             ],
             [
              0.2222222222222222,
              "#7201a8"
             ],
             [
              0.3333333333333333,
              "#9c179e"
             ],
             [
              0.4444444444444444,
              "#bd3786"
             ],
             [
              0.5555555555555556,
              "#d8576b"
             ],
             [
              0.6666666666666666,
              "#ed7953"
             ],
             [
              0.7777777777777778,
              "#fb9f3a"
             ],
             [
              0.8888888888888888,
              "#fdca26"
             ],
             [
              1,
              "#f0f921"
             ]
            ],
            "type": "heatmap"
           }
          ],
          "heatmapgl": [
           {
            "colorbar": {
             "outlinewidth": 0,
             "ticks": ""
            },
            "colorscale": [
             [
              0,
              "#0d0887"
             ],
             [
              0.1111111111111111,
              "#46039f"
             ],
             [
              0.2222222222222222,
              "#7201a8"
             ],
             [
              0.3333333333333333,
              "#9c179e"
             ],
             [
              0.4444444444444444,
              "#bd3786"
             ],
             [
              0.5555555555555556,
              "#d8576b"
             ],
             [
              0.6666666666666666,
              "#ed7953"
             ],
             [
              0.7777777777777778,
              "#fb9f3a"
             ],
             [
              0.8888888888888888,
              "#fdca26"
             ],
             [
              1,
              "#f0f921"
             ]
            ],
            "type": "heatmapgl"
           }
          ],
          "histogram": [
           {
            "marker": {
             "pattern": {
              "fillmode": "overlay",
              "size": 10,
              "solidity": 0.2
             }
            },
            "type": "histogram"
           }
          ],
          "histogram2d": [
           {
            "colorbar": {
             "outlinewidth": 0,
             "ticks": ""
            },
            "colorscale": [
             [
              0,
              "#0d0887"
             ],
             [
              0.1111111111111111,
              "#46039f"
             ],
             [
              0.2222222222222222,
              "#7201a8"
             ],
             [
              0.3333333333333333,
              "#9c179e"
             ],
             [
              0.4444444444444444,
              "#bd3786"
             ],
             [
              0.5555555555555556,
              "#d8576b"
             ],
             [
              0.6666666666666666,
              "#ed7953"
             ],
             [
              0.7777777777777778,
              "#fb9f3a"
             ],
             [
              0.8888888888888888,
              "#fdca26"
             ],
             [
              1,
              "#f0f921"
             ]
            ],
            "type": "histogram2d"
           }
          ],
          "histogram2dcontour": [
           {
            "colorbar": {
             "outlinewidth": 0,
             "ticks": ""
            },
            "colorscale": [
             [
              0,
              "#0d0887"
             ],
             [
              0.1111111111111111,
              "#46039f"
             ],
             [
              0.2222222222222222,
              "#7201a8"
             ],
             [
              0.3333333333333333,
              "#9c179e"
             ],
             [
              0.4444444444444444,
              "#bd3786"
             ],
             [
              0.5555555555555556,
              "#d8576b"
             ],
             [
              0.6666666666666666,
              "#ed7953"
             ],
             [
              0.7777777777777778,
              "#fb9f3a"
             ],
             [
              0.8888888888888888,
              "#fdca26"
             ],
             [
              1,
              "#f0f921"
             ]
            ],
            "type": "histogram2dcontour"
           }
          ],
          "mesh3d": [
           {
            "colorbar": {
             "outlinewidth": 0,
             "ticks": ""
            },
            "type": "mesh3d"
           }
          ],
          "parcoords": [
           {
            "line": {
             "colorbar": {
              "outlinewidth": 0,
              "ticks": ""
             }
            },
            "type": "parcoords"
           }
          ],
          "pie": [
           {
            "automargin": true,
            "type": "pie"
           }
          ],
          "scatter": [
           {
            "fillpattern": {
             "fillmode": "overlay",
             "size": 10,
             "solidity": 0.2
            },
            "type": "scatter"
           }
          ],
          "scatter3d": [
           {
            "line": {
             "colorbar": {
              "outlinewidth": 0,
              "ticks": ""
             }
            },
            "marker": {
             "colorbar": {
              "outlinewidth": 0,
              "ticks": ""
             }
            },
            "type": "scatter3d"
           }
          ],
          "scattercarpet": [
           {
            "marker": {
             "colorbar": {
              "outlinewidth": 0,
              "ticks": ""
             }
            },
            "type": "scattercarpet"
           }
          ],
          "scattergeo": [
           {
            "marker": {
             "colorbar": {
              "outlinewidth": 0,
              "ticks": ""
             }
            },
            "type": "scattergeo"
           }
          ],
          "scattergl": [
           {
            "marker": {
             "colorbar": {
              "outlinewidth": 0,
              "ticks": ""
             }
            },
            "type": "scattergl"
           }
          ],
          "scattermapbox": [
           {
            "marker": {
             "colorbar": {
              "outlinewidth": 0,
              "ticks": ""
             }
            },
            "type": "scattermapbox"
           }
          ],
          "scatterpolar": [
           {
            "marker": {
             "colorbar": {
              "outlinewidth": 0,
              "ticks": ""
             }
            },
            "type": "scatterpolar"
           }
          ],
          "scatterpolargl": [
           {
            "marker": {
             "colorbar": {
              "outlinewidth": 0,
              "ticks": ""
             }
            },
            "type": "scatterpolargl"
           }
          ],
          "scatterternary": [
           {
            "marker": {
             "colorbar": {
              "outlinewidth": 0,
              "ticks": ""
             }
            },
            "type": "scatterternary"
           }
          ],
          "surface": [
           {
            "colorbar": {
             "outlinewidth": 0,
             "ticks": ""
            },
            "colorscale": [
             [
              0,
              "#0d0887"
             ],
             [
              0.1111111111111111,
              "#46039f"
             ],
             [
              0.2222222222222222,
              "#7201a8"
             ],
             [
              0.3333333333333333,
              "#9c179e"
             ],
             [
              0.4444444444444444,
              "#bd3786"
             ],
             [
              0.5555555555555556,
              "#d8576b"
             ],
             [
              0.6666666666666666,
              "#ed7953"
             ],
             [
              0.7777777777777778,
              "#fb9f3a"
             ],
             [
              0.8888888888888888,
              "#fdca26"
             ],
             [
              1,
              "#f0f921"
             ]
            ],
            "type": "surface"
           }
          ],
          "table": [
           {
            "cells": {
             "fill": {
              "color": "#EBF0F8"
             },
             "line": {
              "color": "white"
             }
            },
            "header": {
             "fill": {
              "color": "#C8D4E3"
             },
             "line": {
              "color": "white"
             }
            },
            "type": "table"
           }
          ]
         },
         "layout": {
          "annotationdefaults": {
           "arrowcolor": "#2a3f5f",
           "arrowhead": 0,
           "arrowwidth": 1
          },
          "autotypenumbers": "strict",
          "coloraxis": {
           "colorbar": {
            "outlinewidth": 0,
            "ticks": ""
           }
          },
          "colorscale": {
           "diverging": [
            [
             0,
             "#8e0152"
            ],
            [
             0.1,
             "#c51b7d"
            ],
            [
             0.2,
             "#de77ae"
            ],
            [
             0.3,
             "#f1b6da"
            ],
            [
             0.4,
             "#fde0ef"
            ],
            [
             0.5,
             "#f7f7f7"
            ],
            [
             0.6,
             "#e6f5d0"
            ],
            [
             0.7,
             "#b8e186"
            ],
            [
             0.8,
             "#7fbc41"
            ],
            [
             0.9,
             "#4d9221"
            ],
            [
             1,
             "#276419"
            ]
           ],
           "sequential": [
            [
             0,
             "#0d0887"
            ],
            [
             0.1111111111111111,
             "#46039f"
            ],
            [
             0.2222222222222222,
             "#7201a8"
            ],
            [
             0.3333333333333333,
             "#9c179e"
            ],
            [
             0.4444444444444444,
             "#bd3786"
            ],
            [
             0.5555555555555556,
             "#d8576b"
            ],
            [
             0.6666666666666666,
             "#ed7953"
            ],
            [
             0.7777777777777778,
             "#fb9f3a"
            ],
            [
             0.8888888888888888,
             "#fdca26"
            ],
            [
             1,
             "#f0f921"
            ]
           ],
           "sequentialminus": [
            [
             0,
             "#0d0887"
            ],
            [
             0.1111111111111111,
             "#46039f"
            ],
            [
             0.2222222222222222,
             "#7201a8"
            ],
            [
             0.3333333333333333,
             "#9c179e"
            ],
            [
             0.4444444444444444,
             "#bd3786"
            ],
            [
             0.5555555555555556,
             "#d8576b"
            ],
            [
             0.6666666666666666,
             "#ed7953"
            ],
            [
             0.7777777777777778,
             "#fb9f3a"
            ],
            [
             0.8888888888888888,
             "#fdca26"
            ],
            [
             1,
             "#f0f921"
            ]
           ]
          },
          "colorway": [
           "#636efa",
           "#EF553B",
           "#00cc96",
           "#ab63fa",
           "#FFA15A",
           "#19d3f3",
           "#FF6692",
           "#B6E880",
           "#FF97FF",
           "#FECB52"
          ],
          "font": {
           "color": "#2a3f5f"
          },
          "geo": {
           "bgcolor": "white",
           "lakecolor": "white",
           "landcolor": "#E5ECF6",
           "showlakes": true,
           "showland": true,
           "subunitcolor": "white"
          },
          "hoverlabel": {
           "align": "left"
          },
          "hovermode": "closest",
          "mapbox": {
           "style": "light"
          },
          "paper_bgcolor": "white",
          "plot_bgcolor": "#E5ECF6",
          "polar": {
           "angularaxis": {
            "gridcolor": "white",
            "linecolor": "white",
            "ticks": ""
           },
           "bgcolor": "#E5ECF6",
           "radialaxis": {
            "gridcolor": "white",
            "linecolor": "white",
            "ticks": ""
           }
          },
          "scene": {
           "xaxis": {
            "backgroundcolor": "#E5ECF6",
            "gridcolor": "white",
            "gridwidth": 2,
            "linecolor": "white",
            "showbackground": true,
            "ticks": "",
            "zerolinecolor": "white"
           },
           "yaxis": {
            "backgroundcolor": "#E5ECF6",
            "gridcolor": "white",
            "gridwidth": 2,
            "linecolor": "white",
            "showbackground": true,
            "ticks": "",
            "zerolinecolor": "white"
           },
           "zaxis": {
            "backgroundcolor": "#E5ECF6",
            "gridcolor": "white",
            "gridwidth": 2,
            "linecolor": "white",
            "showbackground": true,
            "ticks": "",
            "zerolinecolor": "white"
           }
          },
          "shapedefaults": {
           "line": {
            "color": "#2a3f5f"
           }
          },
          "ternary": {
           "aaxis": {
            "gridcolor": "white",
            "linecolor": "white",
            "ticks": ""
           },
           "baxis": {
            "gridcolor": "white",
            "linecolor": "white",
            "ticks": ""
           },
           "bgcolor": "#E5ECF6",
           "caxis": {
            "gridcolor": "white",
            "linecolor": "white",
            "ticks": ""
           }
          },
          "title": {
           "x": 0.05
          },
          "xaxis": {
           "automargin": true,
           "gridcolor": "white",
           "linecolor": "white",
           "ticks": "",
           "title": {
            "standoff": 15
           },
           "zerolinecolor": "white",
           "zerolinewidth": 2
          },
          "yaxis": {
           "automargin": true,
           "gridcolor": "white",
           "linecolor": "white",
           "ticks": "",
           "title": {
            "standoff": 15
           },
           "zerolinecolor": "white",
           "zerolinewidth": 2
          }
         }
        },
        "title": {
         "text": "Market Share of Bible Types"
        }
       }
      },
      "text/html": [
       "<div>                            <div id=\"a874d5e8-f4a9-4b33-a11a-3c00fb5e3a05\" class=\"plotly-graph-div\" style=\"height:525px; width:100%;\"></div>            <script type=\"text/javascript\">                require([\"plotly\"], function(Plotly) {                    window.PLOTLYENV=window.PLOTLYENV || {};                                    if (document.getElementById(\"a874d5e8-f4a9-4b33-a11a-3c00fb5e3a05\")) {                    Plotly.newPlot(                        \"a874d5e8-f4a9-4b33-a11a-3c00fb5e3a05\",                        [{\"domain\":{\"x\":[0.0,1.0],\"y\":[0.0,1.0]},\"hovertemplate\":\"Bible_Translation=%{label}\\u003cbr\\u003eSales=%{value}\\u003cextra\\u003e\\u003c\\u002fextra\\u003e\",\"labels\":[\"KJV\",\"NIV\",\"ESV\",\"NKJV\",\"Amplified\",\"Christian Community\",\"NAS\",\"NLT\",\"Revised Standard\",\"CEV\",\"NAB\",\"other\",\"not sure\"],\"legendgroup\":\"\",\"name\":\"\",\"showlegend\":true,\"values\":[31,13,9,7,7,4,3,2,2,2,2,9,8],\"type\":\"pie\"}],                        {\"template\":{\"data\":{\"histogram2dcontour\":[{\"type\":\"histogram2dcontour\",\"colorbar\":{\"outlinewidth\":0,\"ticks\":\"\"},\"colorscale\":[[0.0,\"#0d0887\"],[0.1111111111111111,\"#46039f\"],[0.2222222222222222,\"#7201a8\"],[0.3333333333333333,\"#9c179e\"],[0.4444444444444444,\"#bd3786\"],[0.5555555555555556,\"#d8576b\"],[0.6666666666666666,\"#ed7953\"],[0.7777777777777778,\"#fb9f3a\"],[0.8888888888888888,\"#fdca26\"],[1.0,\"#f0f921\"]]}],\"choropleth\":[{\"type\":\"choropleth\",\"colorbar\":{\"outlinewidth\":0,\"ticks\":\"\"}}],\"histogram2d\":[{\"type\":\"histogram2d\",\"colorbar\":{\"outlinewidth\":0,\"ticks\":\"\"},\"colorscale\":[[0.0,\"#0d0887\"],[0.1111111111111111,\"#46039f\"],[0.2222222222222222,\"#7201a8\"],[0.3333333333333333,\"#9c179e\"],[0.4444444444444444,\"#bd3786\"],[0.5555555555555556,\"#d8576b\"],[0.6666666666666666,\"#ed7953\"],[0.7777777777777778,\"#fb9f3a\"],[0.8888888888888888,\"#fdca26\"],[1.0,\"#f0f921\"]]}],\"heatmap\":[{\"type\":\"heatmap\",\"colorbar\":{\"outlinewidth\":0,\"ticks\":\"\"},\"colorscale\":[[0.0,\"#0d0887\"],[0.1111111111111111,\"#46039f\"],[0.2222222222222222,\"#7201a8\"],[0.3333333333333333,\"#9c179e\"],[0.4444444444444444,\"#bd3786\"],[0.5555555555555556,\"#d8576b\"],[0.6666666666666666,\"#ed7953\"],[0.7777777777777778,\"#fb9f3a\"],[0.8888888888888888,\"#fdca26\"],[1.0,\"#f0f921\"]]}],\"heatmapgl\":[{\"type\":\"heatmapgl\",\"colorbar\":{\"outlinewidth\":0,\"ticks\":\"\"},\"colorscale\":[[0.0,\"#0d0887\"],[0.1111111111111111,\"#46039f\"],[0.2222222222222222,\"#7201a8\"],[0.3333333333333333,\"#9c179e\"],[0.4444444444444444,\"#bd3786\"],[0.5555555555555556,\"#d8576b\"],[0.6666666666666666,\"#ed7953\"],[0.7777777777777778,\"#fb9f3a\"],[0.8888888888888888,\"#fdca26\"],[1.0,\"#f0f921\"]]}],\"contourcarpet\":[{\"type\":\"contourcarpet\",\"colorbar\":{\"outlinewidth\":0,\"ticks\":\"\"}}],\"contour\":[{\"type\":\"contour\",\"colorbar\":{\"outlinewidth\":0,\"ticks\":\"\"},\"colorscale\":[[0.0,\"#0d0887\"],[0.1111111111111111,\"#46039f\"],[0.2222222222222222,\"#7201a8\"],[0.3333333333333333,\"#9c179e\"],[0.4444444444444444,\"#bd3786\"],[0.5555555555555556,\"#d8576b\"],[0.6666666666666666,\"#ed7953\"],[0.7777777777777778,\"#fb9f3a\"],[0.8888888888888888,\"#fdca26\"],[1.0,\"#f0f921\"]]}],\"surface\":[{\"type\":\"surface\",\"colorbar\":{\"outlinewidth\":0,\"ticks\":\"\"},\"colorscale\":[[0.0,\"#0d0887\"],[0.1111111111111111,\"#46039f\"],[0.2222222222222222,\"#7201a8\"],[0.3333333333333333,\"#9c179e\"],[0.4444444444444444,\"#bd3786\"],[0.5555555555555556,\"#d8576b\"],[0.6666666666666666,\"#ed7953\"],[0.7777777777777778,\"#fb9f3a\"],[0.8888888888888888,\"#fdca26\"],[1.0,\"#f0f921\"]]}],\"mesh3d\":[{\"type\":\"mesh3d\",\"colorbar\":{\"outlinewidth\":0,\"ticks\":\"\"}}],\"scatter\":[{\"fillpattern\":{\"fillmode\":\"overlay\",\"size\":10,\"solidity\":0.2},\"type\":\"scatter\"}],\"parcoords\":[{\"type\":\"parcoords\",\"line\":{\"colorbar\":{\"outlinewidth\":0,\"ticks\":\"\"}}}],\"scatterpolargl\":[{\"type\":\"scatterpolargl\",\"marker\":{\"colorbar\":{\"outlinewidth\":0,\"ticks\":\"\"}}}],\"bar\":[{\"error_x\":{\"color\":\"#2a3f5f\"},\"error_y\":{\"color\":\"#2a3f5f\"},\"marker\":{\"line\":{\"color\":\"#E5ECF6\",\"width\":0.5},\"pattern\":{\"fillmode\":\"overlay\",\"size\":10,\"solidity\":0.2}},\"type\":\"bar\"}],\"scattergeo\":[{\"type\":\"scattergeo\",\"marker\":{\"colorbar\":{\"outlinewidth\":0,\"ticks\":\"\"}}}],\"scatterpolar\":[{\"type\":\"scatterpolar\",\"marker\":{\"colorbar\":{\"outlinewidth\":0,\"ticks\":\"\"}}}],\"histogram\":[{\"marker\":{\"pattern\":{\"fillmode\":\"overlay\",\"size\":10,\"solidity\":0.2}},\"type\":\"histogram\"}],\"scattergl\":[{\"type\":\"scattergl\",\"marker\":{\"colorbar\":{\"outlinewidth\":0,\"ticks\":\"\"}}}],\"scatter3d\":[{\"type\":\"scatter3d\",\"line\":{\"colorbar\":{\"outlinewidth\":0,\"ticks\":\"\"}},\"marker\":{\"colorbar\":{\"outlinewidth\":0,\"ticks\":\"\"}}}],\"scattermapbox\":[{\"type\":\"scattermapbox\",\"marker\":{\"colorbar\":{\"outlinewidth\":0,\"ticks\":\"\"}}}],\"scatterternary\":[{\"type\":\"scatterternary\",\"marker\":{\"colorbar\":{\"outlinewidth\":0,\"ticks\":\"\"}}}],\"scattercarpet\":[{\"type\":\"scattercarpet\",\"marker\":{\"colorbar\":{\"outlinewidth\":0,\"ticks\":\"\"}}}],\"carpet\":[{\"aaxis\":{\"endlinecolor\":\"#2a3f5f\",\"gridcolor\":\"white\",\"linecolor\":\"white\",\"minorgridcolor\":\"white\",\"startlinecolor\":\"#2a3f5f\"},\"baxis\":{\"endlinecolor\":\"#2a3f5f\",\"gridcolor\":\"white\",\"linecolor\":\"white\",\"minorgridcolor\":\"white\",\"startlinecolor\":\"#2a3f5f\"},\"type\":\"carpet\"}],\"table\":[{\"cells\":{\"fill\":{\"color\":\"#EBF0F8\"},\"line\":{\"color\":\"white\"}},\"header\":{\"fill\":{\"color\":\"#C8D4E3\"},\"line\":{\"color\":\"white\"}},\"type\":\"table\"}],\"barpolar\":[{\"marker\":{\"line\":{\"color\":\"#E5ECF6\",\"width\":0.5},\"pattern\":{\"fillmode\":\"overlay\",\"size\":10,\"solidity\":0.2}},\"type\":\"barpolar\"}],\"pie\":[{\"automargin\":true,\"type\":\"pie\"}]},\"layout\":{\"autotypenumbers\":\"strict\",\"colorway\":[\"#636efa\",\"#EF553B\",\"#00cc96\",\"#ab63fa\",\"#FFA15A\",\"#19d3f3\",\"#FF6692\",\"#B6E880\",\"#FF97FF\",\"#FECB52\"],\"font\":{\"color\":\"#2a3f5f\"},\"hovermode\":\"closest\",\"hoverlabel\":{\"align\":\"left\"},\"paper_bgcolor\":\"white\",\"plot_bgcolor\":\"#E5ECF6\",\"polar\":{\"bgcolor\":\"#E5ECF6\",\"angularaxis\":{\"gridcolor\":\"white\",\"linecolor\":\"white\",\"ticks\":\"\"},\"radialaxis\":{\"gridcolor\":\"white\",\"linecolor\":\"white\",\"ticks\":\"\"}},\"ternary\":{\"bgcolor\":\"#E5ECF6\",\"aaxis\":{\"gridcolor\":\"white\",\"linecolor\":\"white\",\"ticks\":\"\"},\"baxis\":{\"gridcolor\":\"white\",\"linecolor\":\"white\",\"ticks\":\"\"},\"caxis\":{\"gridcolor\":\"white\",\"linecolor\":\"white\",\"ticks\":\"\"}},\"coloraxis\":{\"colorbar\":{\"outlinewidth\":0,\"ticks\":\"\"}},\"colorscale\":{\"sequential\":[[0.0,\"#0d0887\"],[0.1111111111111111,\"#46039f\"],[0.2222222222222222,\"#7201a8\"],[0.3333333333333333,\"#9c179e\"],[0.4444444444444444,\"#bd3786\"],[0.5555555555555556,\"#d8576b\"],[0.6666666666666666,\"#ed7953\"],[0.7777777777777778,\"#fb9f3a\"],[0.8888888888888888,\"#fdca26\"],[1.0,\"#f0f921\"]],\"sequentialminus\":[[0.0,\"#0d0887\"],[0.1111111111111111,\"#46039f\"],[0.2222222222222222,\"#7201a8\"],[0.3333333333333333,\"#9c179e\"],[0.4444444444444444,\"#bd3786\"],[0.5555555555555556,\"#d8576b\"],[0.6666666666666666,\"#ed7953\"],[0.7777777777777778,\"#fb9f3a\"],[0.8888888888888888,\"#fdca26\"],[1.0,\"#f0f921\"]],\"diverging\":[[0,\"#8e0152\"],[0.1,\"#c51b7d\"],[0.2,\"#de77ae\"],[0.3,\"#f1b6da\"],[0.4,\"#fde0ef\"],[0.5,\"#f7f7f7\"],[0.6,\"#e6f5d0\"],[0.7,\"#b8e186\"],[0.8,\"#7fbc41\"],[0.9,\"#4d9221\"],[1,\"#276419\"]]},\"xaxis\":{\"gridcolor\":\"white\",\"linecolor\":\"white\",\"ticks\":\"\",\"title\":{\"standoff\":15},\"zerolinecolor\":\"white\",\"automargin\":true,\"zerolinewidth\":2},\"yaxis\":{\"gridcolor\":\"white\",\"linecolor\":\"white\",\"ticks\":\"\",\"title\":{\"standoff\":15},\"zerolinecolor\":\"white\",\"automargin\":true,\"zerolinewidth\":2},\"scene\":{\"xaxis\":{\"backgroundcolor\":\"#E5ECF6\",\"gridcolor\":\"white\",\"linecolor\":\"white\",\"showbackground\":true,\"ticks\":\"\",\"zerolinecolor\":\"white\",\"gridwidth\":2},\"yaxis\":{\"backgroundcolor\":\"#E5ECF6\",\"gridcolor\":\"white\",\"linecolor\":\"white\",\"showbackground\":true,\"ticks\":\"\",\"zerolinecolor\":\"white\",\"gridwidth\":2},\"zaxis\":{\"backgroundcolor\":\"#E5ECF6\",\"gridcolor\":\"white\",\"linecolor\":\"white\",\"showbackground\":true,\"ticks\":\"\",\"zerolinecolor\":\"white\",\"gridwidth\":2}},\"shapedefaults\":{\"line\":{\"color\":\"#2a3f5f\"}},\"annotationdefaults\":{\"arrowcolor\":\"#2a3f5f\",\"arrowhead\":0,\"arrowwidth\":1},\"geo\":{\"bgcolor\":\"white\",\"landcolor\":\"#E5ECF6\",\"subunitcolor\":\"white\",\"showland\":true,\"showlakes\":true,\"lakecolor\":\"white\"},\"title\":{\"x\":0.05},\"mapbox\":{\"style\":\"light\"}}},\"legend\":{\"tracegroupgap\":0},\"title\":{\"text\":\"Market Share of Bible Types\"}},                        {\"responsive\": true}                    ).then(function(){\n",
       "                            \n",
       "var gd = document.getElementById('a874d5e8-f4a9-4b33-a11a-3c00fb5e3a05');\n",
       "var x = new MutationObserver(function (mutations, observer) {{\n",
       "        var display = window.getComputedStyle(gd).display;\n",
       "        if (!display || display === 'none') {{\n",
       "            console.log([gd, 'removed!']);\n",
       "            Plotly.purge(gd);\n",
       "            observer.disconnect();\n",
       "        }}\n",
       "}});\n",
       "\n",
       "// Listen for the removal of the full notebook cells\n",
       "var notebookContainer = gd.closest('#notebook-container');\n",
       "if (notebookContainer) {{\n",
       "    x.observe(notebookContainer, {childList: true});\n",
       "}}\n",
       "\n",
       "// Listen for the clearing of the current output cell\n",
       "var outputEl = gd.closest('.output');\n",
       "if (outputEl) {{\n",
       "    x.observe(outputEl, {childList: true});\n",
       "}}\n",
       "\n",
       "                        })                };                });            </script>        </div>"
      ]
     },
     "metadata": {},
     "output_type": "display_data"
    }
   ],
   "source": [
    "import pandas as pd\n",
    "import plotly.express as px\n",
    "data = {'Bible_Translation': ['KJV', 'NIV', 'ESV', 'NKJV', 'Amplified', 'Christian Community', 'NAS', 'NLT', 'Revised Standard', 'CEV', 'NAB', 'other', 'not sure'],    'Sales': [31, 13, 9, 7, 7, 4, 3, 2, 2, 2, 2, 9, 8]} \n",
    "df = pd.DataFrame(data) \n",
    "fig = px.pie(df, names='Bible_Translation',          \n",
    "             values='Sales',           \n",
    "             title='Market Share of Bible Types') \n",
    "fig.show() \n",
    "\t\n",
    "df = pd.DataFrame(data)"
   ]
  },
  {
   "cell_type": "markdown",
   "id": "94d6a445-671b-4018-8835-5bb5308ed0a6",
   "metadata": {},
   "source": [
    "This code creates a venn diagram of the different books that are in the Catholic Bible and the Orthodox Bible. For this code to run properly we must first change the "
   ]
  },
  {
   "cell_type": "code",
   "execution_count": 14,
   "id": "165cbd85-fab9-4fb3-96cd-ea1f3b053378",
   "metadata": {
    "scrolled": true
   },
   "outputs": [
    {
     "name": "stdout",
     "output_type": "stream",
     "text": [
      "Name: numpy\n",
      "Version: 2.0.0\n",
      "Summary: Fundamental package for array computing in Python\n",
      "Home-page: https://numpy.org\n",
      "Author: Travis E. Oliphant et al.\n",
      "Author-email: \n",
      "License: Copyright (c) 2005-2024, NumPy Developers.\n",
      "        All rights reserved.\n",
      "        \n",
      "        Redistribution and use in source and binary forms, with or without\n",
      "        modification, are permitted provided that the following conditions are\n",
      "        met:\n",
      "        \n",
      "            * Redistributions of source code must retain the above copyright\n",
      "               notice, this list of conditions and the following disclaimer.\n",
      "        \n",
      "            * Redistributions in binary form must reproduce the above\n",
      "               copyright notice, this list of conditions and the following\n",
      "               disclaimer in the documentation and/or other materials provided\n",
      "               with the distribution.\n",
      "        \n",
      "            * Neither the name of the NumPy Developers nor the names of any\n",
      "               contributors may be used to endorse or promote products derived\n",
      "               from this software without specific prior written permission.\n",
      "        \n",
      "        THIS SOFTWARE IS PROVIDED BY THE COPYRIGHT HOLDERS AND CONTRIBUTORS\n",
      "        \"AS IS\" AND ANY EXPRESS OR IMPLIED WARRANTIES, INCLUDING, BUT NOT\n",
      "        LIMITED TO, THE IMPLIED WARRANTIES OF MERCHANTABILITY AND FITNESS FOR\n",
      "        A PARTICULAR PURPOSE ARE DISCLAIMED. IN NO EVENT SHALL THE COPYRIGHT\n",
      "        OWNER OR CONTRIBUTORS BE LIABLE FOR ANY DIRECT, INDIRECT, INCIDENTAL,\n",
      "        SPECIAL, EXEMPLARY, OR CONSEQUENTIAL DAMAGES (INCLUDING, BUT NOT\n",
      "        LIMITED TO, PROCUREMENT OF SUBSTITUTE GOODS OR SERVICES; LOSS OF USE,\n",
      "        DATA, OR PROFITS; OR BUSINESS INTERRUPTION) HOWEVER CAUSED AND ON ANY\n",
      "        THEORY OF LIABILITY, WHETHER IN CONTRACT, STRICT LIABILITY, OR TORT\n",
      "        (INCLUDING NEGLIGENCE OR OTHERWISE) ARISING IN ANY WAY OUT OF THE USE\n",
      "        OF THIS SOFTWARE, EVEN IF ADVISED OF THE POSSIBILITY OF SUCH DAMAGE.\n",
      "        \n",
      "        ----\n",
      "        \n",
      "        The NumPy repository and source distributions bundle several libraries that are\n",
      "        compatibly licensed.  We list these here.\n",
      "        \n",
      "        Name: lapack-lite\n",
      "        Files: numpy/linalg/lapack_lite/*\n",
      "        License: BSD-3-Clause\n",
      "          For details, see numpy/linalg/lapack_lite/LICENSE.txt\n",
      "        \n",
      "        Name: dragon4\n",
      "        Files: numpy/_core/src/multiarray/dragon4.c\n",
      "        License: MIT\n",
      "          For license text, see numpy/_core/src/multiarray/dragon4.c\n",
      "        \n",
      "        Name: libdivide\n",
      "        Files: numpy/_core/include/numpy/libdivide/*\n",
      "        License: Zlib\n",
      "          For license text, see numpy/_core/include/numpy/libdivide/LICENSE.txt\n",
      "        \n",
      "        \n",
      "        Note that the following files are vendored in the repository and sdist but not\n",
      "        installed in built numpy packages:\n",
      "        \n",
      "        Name: Meson\n",
      "        Files: vendored-meson/meson/*\n",
      "        License: Apache 2.0\n",
      "          For license text, see vendored-meson/meson/COPYING\n",
      "        \n",
      "        Name: spin\n",
      "        Files: .spin/cmds.py\n",
      "        License: BSD-3\n",
      "          For license text, see .spin/LICENSE\n",
      "        \n",
      "        ----\n",
      "        \n",
      "        This binary distribution of NumPy also bundles the following software:\n",
      "        \n",
      "        \n",
      "        Name: OpenBLAS\n",
      "        Files: numpy.libs/libopenblas*.so\n",
      "        Description: bundled as a dynamically linked library\n",
      "        Availability: https://github.com/OpenMathLib/OpenBLAS/\n",
      "        License: BSD-3-Clause\n",
      "          Copyright (c) 2011-2014, The OpenBLAS Project\n",
      "          All rights reserved.\n",
      "        \n",
      "          Redistribution and use in source and binary forms, with or without\n",
      "          modification, are permitted provided that the following conditions are\n",
      "          met:\n",
      "        \n",
      "             1. Redistributions of source code must retain the above copyright\n",
      "                notice, this list of conditions and the following disclaimer.\n",
      "        \n",
      "             2. Redistributions in binary form must reproduce the above copyright\n",
      "                notice, this list of conditions and the following disclaimer in\n",
      "                the documentation and/or other materials provided with the\n",
      "                distribution.\n",
      "             3. Neither the name of the OpenBLAS project nor the names of\n",
      "                its contributors may be used to endorse or promote products\n",
      "                derived from this software without specific prior written\n",
      "                permission.\n",
      "        \n",
      "          THIS SOFTWARE IS PROVIDED BY THE COPYRIGHT HOLDERS AND CONTRIBUTORS \"AS IS\"\n",
      "          AND ANY EXPRESS OR IMPLIED WARRANTIES, INCLUDING, BUT NOT LIMITED TO, THE\n",
      "          IMPLIED WARRANTIES OF MERCHANTABILITY AND FITNESS FOR A PARTICULAR PURPOSE\n",
      "          ARE DISCLAIMED. IN NO EVENT SHALL THE COPYRIGHT OWNER OR CONTRIBUTORS BE\n",
      "          LIABLE FOR ANY DIRECT, INDIRECT, INCIDENTAL, SPECIAL, EXEMPLARY, OR CONSEQUENTIAL\n",
      "          DAMAGES (INCLUDING, BUT NOT LIMITED TO, PROCUREMENT OF SUBSTITUTE GOODS OR\n",
      "          SERVICES; LOSS OF USE, DATA, OR PROFITS; OR BUSINESS INTERRUPTION) HOWEVER\n",
      "          CAUSED AND ON ANY THEORY OF LIABILITY, WHETHER IN CONTRACT, STRICT LIABILITY,\n",
      "          OR TORT (INCLUDING NEGLIGENCE OR OTHERWISE) ARISING IN ANY WAY OUT OF THE\n",
      "          USE OF THIS SOFTWARE, EVEN IF ADVISED OF THE POSSIBILITY OF SUCH DAMAGE.\n",
      "        \n",
      "        \n",
      "        Name: LAPACK\n",
      "        Files: numpy.libs/libopenblas*.so\n",
      "        Description: bundled in OpenBLAS\n",
      "        Availability: https://github.com/OpenMathLib/OpenBLAS/\n",
      "        License: BSD-3-Clause-Attribution\n",
      "          Copyright (c) 1992-2013 The University of Tennessee and The University\n",
      "                                  of Tennessee Research Foundation.  All rights\n",
      "                                  reserved.\n",
      "          Copyright (c) 2000-2013 The University of California Berkeley. All\n",
      "                                  rights reserved.\n",
      "          Copyright (c) 2006-2013 The University of Colorado Denver.  All rights\n",
      "                                  reserved.\n",
      "        \n",
      "          $COPYRIGHT$\n",
      "        \n",
      "          Additional copyrights may follow\n",
      "        \n",
      "          $HEADER$\n",
      "        \n",
      "          Redistribution and use in source and binary forms, with or without\n",
      "          modification, are permitted provided that the following conditions are\n",
      "          met:\n",
      "        \n",
      "          - Redistributions of source code must retain the above copyright\n",
      "            notice, this list of conditions and the following disclaimer.\n",
      "        \n",
      "          - Redistributions in binary form must reproduce the above copyright\n",
      "            notice, this list of conditions and the following disclaimer listed\n",
      "            in this license in the documentation and/or other materials\n",
      "            provided with the distribution.\n",
      "        \n",
      "          - Neither the name of the copyright holders nor the names of its\n",
      "            contributors may be used to endorse or promote products derived from\n",
      "            this software without specific prior written permission.\n",
      "        \n",
      "          The copyright holders provide no reassurances that the source code\n",
      "          provided does not infringe any patent, copyright, or any other\n",
      "          intellectual property rights of third parties.  The copyright holders\n",
      "          disclaim any liability to any recipient for claims brought against\n",
      "          recipient by any third party for infringement of that parties\n",
      "          intellectual property rights.\n",
      "        \n",
      "          THIS SOFTWARE IS PROVIDED BY THE COPYRIGHT HOLDERS AND CONTRIBUTORS\n",
      "          \"AS IS\" AND ANY EXPRESS OR IMPLIED WARRANTIES, INCLUDING, BUT NOT\n",
      "          LIMITED TO, THE IMPLIED WARRANTIES OF MERCHANTABILITY AND FITNESS FOR\n",
      "          A PARTICULAR PURPOSE ARE DISCLAIMED. IN NO EVENT SHALL THE COPYRIGHT\n",
      "          OWNER OR CONTRIBUTORS BE LIABLE FOR ANY DIRECT, INDIRECT, INCIDENTAL,\n",
      "          SPECIAL, EXEMPLARY, OR CONSEQUENTIAL DAMAGES (INCLUDING, BUT NOT\n",
      "          LIMITED TO, PROCUREMENT OF SUBSTITUTE GOODS OR SERVICES; LOSS OF USE,\n",
      "          DATA, OR PROFITS; OR BUSINESS INTERRUPTION) HOWEVER CAUSED AND ON ANY\n",
      "          THEORY OF LIABILITY, WHETHER IN CONTRACT, STRICT LIABILITY, OR TORT\n",
      "          (INCLUDING NEGLIGENCE OR OTHERWISE) ARISING IN ANY WAY OUT OF THE USE\n",
      "          OF THIS SOFTWARE, EVEN IF ADVISED OF THE POSSIBILITY OF SUCH DAMAGE.\n",
      "        \n",
      "        \n",
      "        Name: GCC runtime library\n",
      "        Files: numpy.libs/libgfortran*.so\n",
      "        Description: dynamically linked to files compiled with gcc\n",
      "        Availability: https://gcc.gnu.org/git/?p=gcc.git;a=tree;f=libgfortran\n",
      "        License: GPL-3.0-with-GCC-exception\n",
      "          Copyright (C) 2002-2017 Free Software Foundation, Inc.\n",
      "        \n",
      "          Libgfortran is free software; you can redistribute it and/or modify\n",
      "          it under the terms of the GNU General Public License as published by\n",
      "          the Free Software Foundation; either version 3, or (at your option)\n",
      "          any later version.\n",
      "        \n",
      "          Libgfortran is distributed in the hope that it will be useful,\n",
      "          but WITHOUT ANY WARRANTY; without even the implied warranty of\n",
      "          MERCHANTABILITY or FITNESS FOR A PARTICULAR PURPOSE.  See the\n",
      "          GNU General Public License for more details.\n",
      "        \n",
      "          Under Section 7 of GPL version 3, you are granted additional\n",
      "          permissions described in the GCC Runtime Library Exception, version\n",
      "          3.1, as published by the Free Software Foundation.\n",
      "        \n",
      "          You should have received a copy of the GNU General Public License and\n",
      "          a copy of the GCC Runtime Library Exception along with this program;\n",
      "          see the files COPYING3 and COPYING.RUNTIME respectively.  If not, see\n",
      "          <http://www.gnu.org/licenses/>.\n",
      "        \n",
      "        ----\n",
      "        \n",
      "        Full text of license texts referred to above follows (that they are\n",
      "        listed below does not necessarily imply the conditions apply to the\n",
      "        present binary release):\n",
      "        \n",
      "        ----\n",
      "        \n",
      "        GCC RUNTIME LIBRARY EXCEPTION\n",
      "        \n",
      "        Version 3.1, 31 March 2009\n",
      "        \n",
      "        Copyright (C) 2009 Free Software Foundation, Inc. <http://fsf.org/>\n",
      "        \n",
      "        Everyone is permitted to copy and distribute verbatim copies of this\n",
      "        license document, but changing it is not allowed.\n",
      "        \n",
      "        This GCC Runtime Library Exception (\"Exception\") is an additional\n",
      "        permission under section 7 of the GNU General Public License, version\n",
      "        3 (\"GPLv3\"). It applies to a given file (the \"Runtime Library\") that\n",
      "        bears a notice placed by the copyright holder of the file stating that\n",
      "        the file is governed by GPLv3 along with this Exception.\n",
      "        \n",
      "        When you use GCC to compile a program, GCC may combine portions of\n",
      "        certain GCC header files and runtime libraries with the compiled\n",
      "        program. The purpose of this Exception is to allow compilation of\n",
      "        non-GPL (including proprietary) programs to use, in this way, the\n",
      "        header files and runtime libraries covered by this Exception.\n",
      "        \n",
      "        0. Definitions.\n",
      "        \n",
      "        A file is an \"Independent Module\" if it either requires the Runtime\n",
      "        Library for execution after a Compilation Process, or makes use of an\n",
      "        interface provided by the Runtime Library, but is not otherwise based\n",
      "        on the Runtime Library.\n",
      "        \n",
      "        \"GCC\" means a version of the GNU Compiler Collection, with or without\n",
      "        modifications, governed by version 3 (or a specified later version) of\n",
      "        the GNU General Public License (GPL) with the option of using any\n",
      "        subsequent versions published by the FSF.\n",
      "        \n",
      "        \"GPL-compatible Software\" is software whose conditions of propagation,\n",
      "        modification and use would permit combination with GCC in accord with\n",
      "        the license of GCC.\n",
      "        \n",
      "        \"Target Code\" refers to output from any compiler for a real or virtual\n",
      "        target processor architecture, in executable form or suitable for\n",
      "        input to an assembler, loader, linker and/or execution\n",
      "        phase. Notwithstanding that, Target Code does not include data in any\n",
      "        format that is used as a compiler intermediate representation, or used\n",
      "        for producing a compiler intermediate representation.\n",
      "        \n",
      "        The \"Compilation Process\" transforms code entirely represented in\n",
      "        non-intermediate languages designed for human-written code, and/or in\n",
      "        Java Virtual Machine byte code, into Target Code. Thus, for example,\n",
      "        use of source code generators and preprocessors need not be considered\n",
      "        part of the Compilation Process, since the Compilation Process can be\n",
      "        understood as starting with the output of the generators or\n",
      "        preprocessors.\n",
      "        \n",
      "        A Compilation Process is \"Eligible\" if it is done using GCC, alone or\n",
      "        with other GPL-compatible software, or if it is done without using any\n",
      "        work based on GCC. For example, using non-GPL-compatible Software to\n",
      "        optimize any GCC intermediate representations would not qualify as an\n",
      "        Eligible Compilation Process.\n",
      "        \n",
      "        1. Grant of Additional Permission.\n",
      "        \n",
      "        You have permission to propagate a work of Target Code formed by\n",
      "        combining the Runtime Library with Independent Modules, even if such\n",
      "        propagation would otherwise violate the terms of GPLv3, provided that\n",
      "        all Target Code was generated by Eligible Compilation Processes. You\n",
      "        may then convey such a combination under terms of your choice,\n",
      "        consistent with the licensing of the Independent Modules.\n",
      "        \n",
      "        2. No Weakening of GCC Copyleft.\n",
      "        \n",
      "        The availability of this Exception does not imply any general\n",
      "        presumption that third-party software is unaffected by the copyleft\n",
      "        requirements of the license of GCC.\n",
      "        \n",
      "        ----\n",
      "        \n",
      "                            GNU GENERAL PUBLIC LICENSE\n",
      "                               Version 3, 29 June 2007\n",
      "        \n",
      "         Copyright (C) 2007 Free Software Foundation, Inc. <http://fsf.org/>\n",
      "         Everyone is permitted to copy and distribute verbatim copies\n",
      "         of this license document, but changing it is not allowed.\n",
      "        \n",
      "                                    Preamble\n",
      "        \n",
      "          The GNU General Public License is a free, copyleft license for\n",
      "        software and other kinds of works.\n",
      "        \n",
      "          The licenses for most software and other practical works are designed\n",
      "        to take away your freedom to share and change the works.  By contrast,\n",
      "        the GNU General Public License is intended to guarantee your freedom to\n",
      "        share and change all versions of a program--to make sure it remains free\n",
      "        software for all its users.  We, the Free Software Foundation, use the\n",
      "        GNU General Public License for most of our software; it applies also to\n",
      "        any other work released this way by its authors.  You can apply it to\n",
      "        your programs, too.\n",
      "        \n",
      "          When we speak of free software, we are referring to freedom, not\n",
      "        price.  Our General Public Licenses are designed to make sure that you\n",
      "        have the freedom to distribute copies of free software (and charge for\n",
      "        them if you wish), that you receive source code or can get it if you\n",
      "        want it, that you can change the software or use pieces of it in new\n",
      "        free programs, and that you know you can do these things.\n",
      "        \n",
      "          To protect your rights, we need to prevent others from denying you\n",
      "        these rights or asking you to surrender the rights.  Therefore, you have\n",
      "        certain responsibilities if you distribute copies of the software, or if\n",
      "        you modify it: responsibilities to respect the freedom of others.\n",
      "        \n",
      "          For example, if you distribute copies of such a program, whether\n",
      "        gratis or for a fee, you must pass on to the recipients the same\n",
      "        freedoms that you received.  You must make sure that they, too, receive\n",
      "        or can get the source code.  And you must show them these terms so they\n",
      "        know their rights.\n",
      "        \n",
      "          Developers that use the GNU GPL protect your rights with two steps:\n",
      "        (1) assert copyright on the software, and (2) offer you this License\n",
      "        giving you legal permission to copy, distribute and/or modify it.\n",
      "        \n",
      "          For the developers' and authors' protection, the GPL clearly explains\n",
      "        that there is no warranty for this free software.  For both users' and\n",
      "        authors' sake, the GPL requires that modified versions be marked as\n",
      "        changed, so that their problems will not be attributed erroneously to\n",
      "        authors of previous versions.\n",
      "        \n",
      "          Some devices are designed to deny users access to install or run\n",
      "        modified versions of the software inside them, although the manufacturer\n",
      "        can do so.  This is fundamentally incompatible with the aim of\n",
      "        protecting users' freedom to change the software.  The systematic\n",
      "        pattern of such abuse occurs in the area of products for individuals to\n",
      "        use, which is precisely where it is most unacceptable.  Therefore, we\n",
      "        have designed this version of the GPL to prohibit the practice for those\n",
      "        products.  If such problems arise substantially in other domains, we\n",
      "        stand ready to extend this provision to those domains in future versions\n",
      "        of the GPL, as needed to protect the freedom of users.\n",
      "        \n",
      "          Finally, every program is threatened constantly by software patents.\n",
      "        States should not allow patents to restrict development and use of\n",
      "        software on general-purpose computers, but in those that do, we wish to\n",
      "        avoid the special danger that patents applied to a free program could\n",
      "        make it effectively proprietary.  To prevent this, the GPL assures that\n",
      "        patents cannot be used to render the program non-free.\n",
      "        \n",
      "          The precise terms and conditions for copying, distribution and\n",
      "        modification follow.\n",
      "        \n",
      "                               TERMS AND CONDITIONS\n",
      "        \n",
      "          0. Definitions.\n",
      "        \n",
      "          \"This License\" refers to version 3 of the GNU General Public License.\n",
      "        \n",
      "          \"Copyright\" also means copyright-like laws that apply to other kinds of\n",
      "        works, such as semiconductor masks.\n",
      "        \n",
      "          \"The Program\" refers to any copyrightable work licensed under this\n",
      "        License.  Each licensee is addressed as \"you\".  \"Licensees\" and\n",
      "        \"recipients\" may be individuals or organizations.\n",
      "        \n",
      "          To \"modify\" a work means to copy from or adapt all or part of the work\n",
      "        in a fashion requiring copyright permission, other than the making of an\n",
      "        exact copy.  The resulting work is called a \"modified version\" of the\n",
      "        earlier work or a work \"based on\" the earlier work.\n",
      "        \n",
      "          A \"covered work\" means either the unmodified Program or a work based\n",
      "        on the Program.\n",
      "        \n",
      "          To \"propagate\" a work means to do anything with it that, without\n",
      "        permission, would make you directly or secondarily liable for\n",
      "        infringement under applicable copyright law, except executing it on a\n",
      "        computer or modifying a private copy.  Propagation includes copying,\n",
      "        distribution (with or without modification), making available to the\n",
      "        public, and in some countries other activities as well.\n",
      "        \n",
      "          To \"convey\" a work means any kind of propagation that enables other\n",
      "        parties to make or receive copies.  Mere interaction with a user through\n",
      "        a computer network, with no transfer of a copy, is not conveying.\n",
      "        \n",
      "          An interactive user interface displays \"Appropriate Legal Notices\"\n",
      "        to the extent that it includes a convenient and prominently visible\n",
      "        feature that (1) displays an appropriate copyright notice, and (2)\n",
      "        tells the user that there is no warranty for the work (except to the\n",
      "        extent that warranties are provided), that licensees may convey the\n",
      "        work under this License, and how to view a copy of this License.  If\n",
      "        the interface presents a list of user commands or options, such as a\n",
      "        menu, a prominent item in the list meets this criterion.\n",
      "        \n",
      "          1. Source Code.\n",
      "        \n",
      "          The \"source code\" for a work means the preferred form of the work\n",
      "        for making modifications to it.  \"Object code\" means any non-source\n",
      "        form of a work.\n",
      "        \n",
      "          A \"Standard Interface\" means an interface that either is an official\n",
      "        standard defined by a recognized standards body, or, in the case of\n",
      "        interfaces specified for a particular programming language, one that\n",
      "        is widely used among developers working in that language.\n",
      "        \n",
      "          The \"System Libraries\" of an executable work include anything, other\n",
      "        than the work as a whole, that (a) is included in the normal form of\n",
      "        packaging a Major Component, but which is not part of that Major\n",
      "        Component, and (b) serves only to enable use of the work with that\n",
      "        Major Component, or to implement a Standard Interface for which an\n",
      "        implementation is available to the public in source code form.  A\n",
      "        \"Major Component\", in this context, means a major essential component\n",
      "        (kernel, window system, and so on) of the specific operating system\n",
      "        (if any) on which the executable work runs, or a compiler used to\n",
      "        produce the work, or an object code interpreter used to run it.\n",
      "        \n",
      "          The \"Corresponding Source\" for a work in object code form means all\n",
      "        the source code needed to generate, install, and (for an executable\n",
      "        work) run the object code and to modify the work, including scripts to\n",
      "        control those activities.  However, it does not include the work's\n",
      "        System Libraries, or general-purpose tools or generally available free\n",
      "        programs which are used unmodified in performing those activities but\n",
      "        which are not part of the work.  For example, Corresponding Source\n",
      "        includes interface definition files associated with source files for\n",
      "        the work, and the source code for shared libraries and dynamically\n",
      "        linked subprograms that the work is specifically designed to require,\n",
      "        such as by intimate data communication or control flow between those\n",
      "        subprograms and other parts of the work.\n",
      "        \n",
      "          The Corresponding Source need not include anything that users\n",
      "        can regenerate automatically from other parts of the Corresponding\n",
      "        Source.\n",
      "        \n",
      "          The Corresponding Source for a work in source code form is that\n",
      "        same work.\n",
      "        \n",
      "          2. Basic Permissions.\n",
      "        \n",
      "          All rights granted under this License are granted for the term of\n",
      "        copyright on the Program, and are irrevocable provided the stated\n",
      "        conditions are met.  This License explicitly affirms your unlimited\n",
      "        permission to run the unmodified Program.  The output from running a\n",
      "        covered work is covered by this License only if the output, given its\n",
      "        content, constitutes a covered work.  This License acknowledges your\n",
      "        rights of fair use or other equivalent, as provided by copyright law.\n",
      "        \n",
      "          You may make, run and propagate covered works that you do not\n",
      "        convey, without conditions so long as your license otherwise remains\n",
      "        in force.  You may convey covered works to others for the sole purpose\n",
      "        of having them make modifications exclusively for you, or provide you\n",
      "        with facilities for running those works, provided that you comply with\n",
      "        the terms of this License in conveying all material for which you do\n",
      "        not control copyright.  Those thus making or running the covered works\n",
      "        for you must do so exclusively on your behalf, under your direction\n",
      "        and control, on terms that prohibit them from making any copies of\n",
      "        your copyrighted material outside their relationship with you.\n",
      "        \n",
      "          Conveying under any other circumstances is permitted solely under\n",
      "        the conditions stated below.  Sublicensing is not allowed; section 10\n",
      "        makes it unnecessary.\n",
      "        \n",
      "          3. Protecting Users' Legal Rights From Anti-Circumvention Law.\n",
      "        \n",
      "          No covered work shall be deemed part of an effective technological\n",
      "        measure under any applicable law fulfilling obligations under article\n",
      "        11 of the WIPO copyright treaty adopted on 20 December 1996, or\n",
      "        similar laws prohibiting or restricting circumvention of such\n",
      "        measures.\n",
      "        \n",
      "          When you convey a covered work, you waive any legal power to forbid\n",
      "        circumvention of technological measures to the extent such circumvention\n",
      "        is effected by exercising rights under this License with respect to\n",
      "        the covered work, and you disclaim any intention to limit operation or\n",
      "        modification of the work as a means of enforcing, against the work's\n",
      "        users, your or third parties' legal rights to forbid circumvention of\n",
      "        technological measures.\n",
      "        \n",
      "          4. Conveying Verbatim Copies.\n",
      "        \n",
      "          You may convey verbatim copies of the Program's source code as you\n",
      "        receive it, in any medium, provided that you conspicuously and\n",
      "        appropriately publish on each copy an appropriate copyright notice;\n",
      "        keep intact all notices stating that this License and any\n",
      "        non-permissive terms added in accord with section 7 apply to the code;\n",
      "        keep intact all notices of the absence of any warranty; and give all\n",
      "        recipients a copy of this License along with the Program.\n",
      "        \n",
      "          You may charge any price or no price for each copy that you convey,\n",
      "        and you may offer support or warranty protection for a fee.\n",
      "        \n",
      "          5. Conveying Modified Source Versions.\n",
      "        \n",
      "          You may convey a work based on the Program, or the modifications to\n",
      "        produce it from the Program, in the form of source code under the\n",
      "        terms of section 4, provided that you also meet all of these conditions:\n",
      "        \n",
      "            a) The work must carry prominent notices stating that you modified\n",
      "            it, and giving a relevant date.\n",
      "        \n",
      "            b) The work must carry prominent notices stating that it is\n",
      "            released under this License and any conditions added under section\n",
      "            7.  This requirement modifies the requirement in section 4 to\n",
      "            \"keep intact all notices\".\n",
      "        \n",
      "            c) You must license the entire work, as a whole, under this\n",
      "            License to anyone who comes into possession of a copy.  This\n",
      "            License will therefore apply, along with any applicable section 7\n",
      "            additional terms, to the whole of the work, and all its parts,\n",
      "            regardless of how they are packaged.  This License gives no\n",
      "            permission to license the work in any other way, but it does not\n",
      "            invalidate such permission if you have separately received it.\n",
      "        \n",
      "            d) If the work has interactive user interfaces, each must display\n",
      "            Appropriate Legal Notices; however, if the Program has interactive\n",
      "            interfaces that do not display Appropriate Legal Notices, your\n",
      "            work need not make them do so.\n",
      "        \n",
      "          A compilation of a covered work with other separate and independent\n",
      "        works, which are not by their nature extensions of the covered work,\n",
      "        and which are not combined with it such as to form a larger program,\n",
      "        in or on a volume of a storage or distribution medium, is called an\n",
      "        \"aggregate\" if the compilation and its resulting copyright are not\n",
      "        used to limit the access or legal rights of the compilation's users\n",
      "        beyond what the individual works permit.  Inclusion of a covered work\n",
      "        in an aggregate does not cause this License to apply to the other\n",
      "        parts of the aggregate.\n",
      "        \n",
      "          6. Conveying Non-Source Forms.\n",
      "        \n",
      "          You may convey a covered work in object code form under the terms\n",
      "        of sections 4 and 5, provided that you also convey the\n",
      "        machine-readable Corresponding Source under the terms of this License,\n",
      "        in one of these ways:\n",
      "        \n",
      "            a) Convey the object code in, or embodied in, a physical product\n",
      "            (including a physical distribution medium), accompanied by the\n",
      "            Corresponding Source fixed on a durable physical medium\n",
      "            customarily used for software interchange.\n",
      "        \n",
      "            b) Convey the object code in, or embodied in, a physical product\n",
      "            (including a physical distribution medium), accompanied by a\n",
      "            written offer, valid for at least three years and valid for as\n",
      "            long as you offer spare parts or customer support for that product\n",
      "            model, to give anyone who possesses the object code either (1) a\n",
      "            copy of the Corresponding Source for all the software in the\n",
      "            product that is covered by this License, on a durable physical\n",
      "            medium customarily used for software interchange, for a price no\n",
      "            more than your reasonable cost of physically performing this\n",
      "            conveying of source, or (2) access to copy the\n",
      "            Corresponding Source from a network server at no charge.\n",
      "        \n",
      "            c) Convey individual copies of the object code with a copy of the\n",
      "            written offer to provide the Corresponding Source.  This\n",
      "            alternative is allowed only occasionally and noncommercially, and\n",
      "            only if you received the object code with such an offer, in accord\n",
      "            with subsection 6b.\n",
      "        \n",
      "            d) Convey the object code by offering access from a designated\n",
      "            place (gratis or for a charge), and offer equivalent access to the\n",
      "            Corresponding Source in the same way through the same place at no\n",
      "            further charge.  You need not require recipients to copy the\n",
      "            Corresponding Source along with the object code.  If the place to\n",
      "            copy the object code is a network server, the Corresponding Source\n",
      "            may be on a different server (operated by you or a third party)\n",
      "            that supports equivalent copying facilities, provided you maintain\n",
      "            clear directions next to the object code saying where to find the\n",
      "            Corresponding Source.  Regardless of what server hosts the\n",
      "            Corresponding Source, you remain obligated to ensure that it is\n",
      "            available for as long as needed to satisfy these requirements.\n",
      "        \n",
      "            e) Convey the object code using peer-to-peer transmission, provided\n",
      "            you inform other peers where the object code and Corresponding\n",
      "            Source of the work are being offered to the general public at no\n",
      "            charge under subsection 6d.\n",
      "        \n",
      "          A separable portion of the object code, whose source code is excluded\n",
      "        from the Corresponding Source as a System Library, need not be\n",
      "        included in conveying the object code work.\n",
      "        \n",
      "          A \"User Product\" is either (1) a \"consumer product\", which means any\n",
      "        tangible personal property which is normally used for personal, family,\n",
      "        or household purposes, or (2) anything designed or sold for incorporation\n",
      "        into a dwelling.  In determining whether a product is a consumer product,\n",
      "        doubtful cases shall be resolved in favor of coverage.  For a particular\n",
      "        product received by a particular user, \"normally used\" refers to a\n",
      "        typical or common use of that class of product, regardless of the status\n",
      "        of the particular user or of the way in which the particular user\n",
      "        actually uses, or expects or is expected to use, the product.  A product\n",
      "        is a consumer product regardless of whether the product has substantial\n",
      "        commercial, industrial or non-consumer uses, unless such uses represent\n",
      "        the only significant mode of use of the product.\n",
      "        \n",
      "          \"Installation Information\" for a User Product means any methods,\n",
      "        procedures, authorization keys, or other information required to install\n",
      "        and execute modified versions of a covered work in that User Product from\n",
      "        a modified version of its Corresponding Source.  The information must\n",
      "        suffice to ensure that the continued functioning of the modified object\n",
      "        code is in no case prevented or interfered with solely because\n",
      "        modification has been made.\n",
      "        \n",
      "          If you convey an object code work under this section in, or with, or\n",
      "        specifically for use in, a User Product, and the conveying occurs as\n",
      "        part of a transaction in which the right of possession and use of the\n",
      "        User Product is transferred to the recipient in perpetuity or for a\n",
      "        fixed term (regardless of how the transaction is characterized), the\n",
      "        Corresponding Source conveyed under this section must be accompanied\n",
      "        by the Installation Information.  But this requirement does not apply\n",
      "        if neither you nor any third party retains the ability to install\n",
      "        modified object code on the User Product (for example, the work has\n",
      "        been installed in ROM).\n",
      "        \n",
      "          The requirement to provide Installation Information does not include a\n",
      "        requirement to continue to provide support service, warranty, or updates\n",
      "        for a work that has been modified or installed by the recipient, or for\n",
      "        the User Product in which it has been modified or installed.  Access to a\n",
      "        network may be denied when the modification itself materially and\n",
      "        adversely affects the operation of the network or violates the rules and\n",
      "        protocols for communication across the network.\n",
      "        \n",
      "          Corresponding Source conveyed, and Installation Information provided,\n",
      "        in accord with this section must be in a format that is publicly\n",
      "        documented (and with an implementation available to the public in\n",
      "        source code form), and must require no special password or key for\n",
      "        unpacking, reading or copying.\n",
      "        \n",
      "          7. Additional Terms.\n",
      "        \n",
      "          \"Additional permissions\" are terms that supplement the terms of this\n",
      "        License by making exceptions from one or more of its conditions.\n",
      "        Additional permissions that are applicable to the entire Program shall\n",
      "        be treated as though they were included in this License, to the extent\n",
      "        that they are valid under applicable law.  If additional permissions\n",
      "        apply only to part of the Program, that part may be used separately\n",
      "        under those permissions, but the entire Program remains governed by\n",
      "        this License without regard to the additional permissions.\n",
      "        \n",
      "          When you convey a copy of a covered work, you may at your option\n",
      "        remove any additional permissions from that copy, or from any part of\n",
      "        it.  (Additional permissions may be written to require their own\n",
      "        removal in certain cases when you modify the work.)  You may place\n",
      "        additional permissions on material, added by you to a covered work,\n",
      "        for which you have or can give appropriate copyright permission.\n",
      "        \n",
      "          Notwithstanding any other provision of this License, for material you\n",
      "        add to a covered work, you may (if authorized by the copyright holders of\n",
      "        that material) supplement the terms of this License with terms:\n",
      "        \n",
      "            a) Disclaiming warranty or limiting liability differently from the\n",
      "            terms of sections 15 and 16 of this License; or\n",
      "        \n",
      "            b) Requiring preservation of specified reasonable legal notices or\n",
      "            author attributions in that material or in the Appropriate Legal\n",
      "            Notices displayed by works containing it; or\n",
      "        \n",
      "            c) Prohibiting misrepresentation of the origin of that material, or\n",
      "            requiring that modified versions of such material be marked in\n",
      "            reasonable ways as different from the original version; or\n",
      "        \n",
      "            d) Limiting the use for publicity purposes of names of licensors or\n",
      "            authors of the material; or\n",
      "        \n",
      "            e) Declining to grant rights under trademark law for use of some\n",
      "            trade names, trademarks, or service marks; or\n",
      "        \n",
      "            f) Requiring indemnification of licensors and authors of that\n",
      "            material by anyone who conveys the material (or modified versions of\n",
      "            it) with contractual assumptions of liability to the recipient, for\n",
      "            any liability that these contractual assumptions directly impose on\n",
      "            those licensors and authors.\n",
      "        \n",
      "          All other non-permissive additional terms are considered \"further\n",
      "        restrictions\" within the meaning of section 10.  If the Program as you\n",
      "        received it, or any part of it, contains a notice stating that it is\n",
      "        governed by this License along with a term that is a further\n",
      "        restriction, you may remove that term.  If a license document contains\n",
      "        a further restriction but permits relicensing or conveying under this\n",
      "        License, you may add to a covered work material governed by the terms\n",
      "        of that license document, provided that the further restriction does\n",
      "        not survive such relicensing or conveying.\n",
      "        \n",
      "          If you add terms to a covered work in accord with this section, you\n",
      "        must place, in the relevant source files, a statement of the\n",
      "        additional terms that apply to those files, or a notice indicating\n",
      "        where to find the applicable terms.\n",
      "        \n",
      "          Additional terms, permissive or non-permissive, may be stated in the\n",
      "        form of a separately written license, or stated as exceptions;\n",
      "        the above requirements apply either way.\n",
      "        \n",
      "          8. Termination.\n",
      "        \n",
      "          You may not propagate or modify a covered work except as expressly\n",
      "        provided under this License.  Any attempt otherwise to propagate or\n",
      "        modify it is void, and will automatically terminate your rights under\n",
      "        this License (including any patent licenses granted under the third\n",
      "        paragraph of section 11).\n",
      "        \n",
      "          However, if you cease all violation of this License, then your\n",
      "        license from a particular copyright holder is reinstated (a)\n",
      "        provisionally, unless and until the copyright holder explicitly and\n",
      "        finally terminates your license, and (b) permanently, if the copyright\n",
      "        holder fails to notify you of the violation by some reasonable means\n",
      "        prior to 60 days after the cessation.\n",
      "        \n",
      "          Moreover, your license from a particular copyright holder is\n",
      "        reinstated permanently if the copyright holder notifies you of the\n",
      "        violation by some reasonable means, this is the first time you have\n",
      "        received notice of violation of this License (for any work) from that\n",
      "        copyright holder, and you cure the violation prior to 30 days after\n",
      "        your receipt of the notice.\n",
      "        \n",
      "          Termination of your rights under this section does not terminate the\n",
      "        licenses of parties who have received copies or rights from you under\n",
      "        this License.  If your rights have been terminated and not permanently\n",
      "        reinstated, you do not qualify to receive new licenses for the same\n",
      "        material under section 10.\n",
      "        \n",
      "          9. Acceptance Not Required for Having Copies.\n",
      "        \n",
      "          You are not required to accept this License in order to receive or\n",
      "        run a copy of the Program.  Ancillary propagation of a covered work\n",
      "        occurring solely as a consequence of using peer-to-peer transmission\n",
      "        to receive a copy likewise does not require acceptance.  However,\n",
      "        nothing other than this License grants you permission to propagate or\n",
      "        modify any covered work.  These actions infringe copyright if you do\n",
      "        not accept this License.  Therefore, by modifying or propagating a\n",
      "        covered work, you indicate your acceptance of this License to do so.\n",
      "        \n",
      "          10. Automatic Licensing of Downstream Recipients.\n",
      "        \n",
      "          Each time you convey a covered work, the recipient automatically\n",
      "        receives a license from the original licensors, to run, modify and\n",
      "        propagate that work, subject to this License.  You are not responsible\n",
      "        for enforcing compliance by third parties with this License.\n",
      "        \n",
      "          An \"entity transaction\" is a transaction transferring control of an\n",
      "        organization, or substantially all assets of one, or subdividing an\n",
      "        organization, or merging organizations.  If propagation of a covered\n",
      "        work results from an entity transaction, each party to that\n",
      "        transaction who receives a copy of the work also receives whatever\n",
      "        licenses to the work the party's predecessor in interest had or could\n",
      "        give under the previous paragraph, plus a right to possession of the\n",
      "        Corresponding Source of the work from the predecessor in interest, if\n",
      "        the predecessor has it or can get it with reasonable efforts.\n",
      "        \n",
      "          You may not impose any further restrictions on the exercise of the\n",
      "        rights granted or affirmed under this License.  For example, you may\n",
      "        not impose a license fee, royalty, or other charge for exercise of\n",
      "        rights granted under this License, and you may not initiate litigation\n",
      "        (including a cross-claim or counterclaim in a lawsuit) alleging that\n",
      "        any patent claim is infringed by making, using, selling, offering for\n",
      "        sale, or importing the Program or any portion of it.\n",
      "        \n",
      "          11. Patents.\n",
      "        \n",
      "          A \"contributor\" is a copyright holder who authorizes use under this\n",
      "        License of the Program or a work on which the Program is based.  The\n",
      "        work thus licensed is called the contributor's \"contributor version\".\n",
      "        \n",
      "          A contributor's \"essential patent claims\" are all patent claims\n",
      "        owned or controlled by the contributor, whether already acquired or\n",
      "        hereafter acquired, that would be infringed by some manner, permitted\n",
      "        by this License, of making, using, or selling its contributor version,\n",
      "        but do not include claims that would be infringed only as a\n",
      "        consequence of further modification of the contributor version.  For\n",
      "        purposes of this definition, \"control\" includes the right to grant\n",
      "        patent sublicenses in a manner consistent with the requirements of\n",
      "        this License.\n",
      "        \n",
      "          Each contributor grants you a non-exclusive, worldwide, royalty-free\n",
      "        patent license under the contributor's essential patent claims, to\n",
      "        make, use, sell, offer for sale, import and otherwise run, modify and\n",
      "        propagate the contents of its contributor version.\n",
      "        \n",
      "          In the following three paragraphs, a \"patent license\" is any express\n",
      "        agreement or commitment, however denominated, not to enforce a patent\n",
      "        (such as an express permission to practice a patent or covenant not to\n",
      "        sue for patent infringement).  To \"grant\" such a patent license to a\n",
      "        party means to make such an agreement or commitment not to enforce a\n",
      "        patent against the party.\n",
      "        \n",
      "          If you convey a covered work, knowingly relying on a patent license,\n",
      "        and the Corresponding Source of the work is not available for anyone\n",
      "        to copy, free of charge and under the terms of this License, through a\n",
      "        publicly available network server or other readily accessible means,\n",
      "        then you must either (1) cause the Corresponding Source to be so\n",
      "        available, or (2) arrange to deprive yourself of the benefit of the\n",
      "        patent license for this particular work, or (3) arrange, in a manner\n",
      "        consistent with the requirements of this License, to extend the patent\n",
      "        license to downstream recipients.  \"Knowingly relying\" means you have\n",
      "        actual knowledge that, but for the patent license, your conveying the\n",
      "        covered work in a country, or your recipient's use of the covered work\n",
      "        in a country, would infringe one or more identifiable patents in that\n",
      "        country that you have reason to believe are valid.\n",
      "        \n",
      "          If, pursuant to or in connection with a single transaction or\n",
      "        arrangement, you convey, or propagate by procuring conveyance of, a\n",
      "        covered work, and grant a patent license to some of the parties\n",
      "        receiving the covered work authorizing them to use, propagate, modify\n",
      "        or convey a specific copy of the covered work, then the patent license\n",
      "        you grant is automatically extended to all recipients of the covered\n",
      "        work and works based on it.\n",
      "        \n",
      "          A patent license is \"discriminatory\" if it does not include within\n",
      "        the scope of its coverage, prohibits the exercise of, or is\n",
      "        conditioned on the non-exercise of one or more of the rights that are\n",
      "        specifically granted under this License.  You may not convey a covered\n",
      "        work if you are a party to an arrangement with a third party that is\n",
      "        in the business of distributing software, under which you make payment\n",
      "        to the third party based on the extent of your activity of conveying\n",
      "        the work, and under which the third party grants, to any of the\n",
      "        parties who would receive the covered work from you, a discriminatory\n",
      "        patent license (a) in connection with copies of the covered work\n",
      "        conveyed by you (or copies made from those copies), or (b) primarily\n",
      "        for and in connection with specific products or compilations that\n",
      "        contain the covered work, unless you entered into that arrangement,\n",
      "        or that patent license was granted, prior to 28 March 2007.\n",
      "        \n",
      "          Nothing in this License shall be construed as excluding or limiting\n",
      "        any implied license or other defenses to infringement that may\n",
      "        otherwise be available to you under applicable patent law.\n",
      "        \n",
      "          12. No Surrender of Others' Freedom.\n",
      "        \n",
      "          If conditions are imposed on you (whether by court order, agreement or\n",
      "        otherwise) that contradict the conditions of this License, they do not\n",
      "        excuse you from the conditions of this License.  If you cannot convey a\n",
      "        covered work so as to satisfy simultaneously your obligations under this\n",
      "        License and any other pertinent obligations, then as a consequence you may\n",
      "        not convey it at all.  For example, if you agree to terms that obligate you\n",
      "        to collect a royalty for further conveying from those to whom you convey\n",
      "        the Program, the only way you could satisfy both those terms and this\n",
      "        License would be to refrain entirely from conveying the Program.\n",
      "        \n",
      "          13. Use with the GNU Affero General Public License.\n",
      "        \n",
      "          Notwithstanding any other provision of this License, you have\n",
      "        permission to link or combine any covered work with a work licensed\n",
      "        under version 3 of the GNU Affero General Public License into a single\n",
      "        combined work, and to convey the resulting work.  The terms of this\n",
      "        License will continue to apply to the part which is the covered work,\n",
      "        but the special requirements of the GNU Affero General Public License,\n",
      "        section 13, concerning interaction through a network will apply to the\n",
      "        combination as such.\n",
      "        \n",
      "          14. Revised Versions of this License.\n",
      "        \n",
      "          The Free Software Foundation may publish revised and/or new versions of\n",
      "        the GNU General Public License from time to time.  Such new versions will\n",
      "        be similar in spirit to the present version, but may differ in detail to\n",
      "        address new problems or concerns.\n",
      "        \n",
      "          Each version is given a distinguishing version number.  If the\n",
      "        Program specifies that a certain numbered version of the GNU General\n",
      "        Public License \"or any later version\" applies to it, you have the\n",
      "        option of following the terms and conditions either of that numbered\n",
      "        version or of any later version published by the Free Software\n",
      "        Foundation.  If the Program does not specify a version number of the\n",
      "        GNU General Public License, you may choose any version ever published\n",
      "        by the Free Software Foundation.\n",
      "        \n",
      "          If the Program specifies that a proxy can decide which future\n",
      "        versions of the GNU General Public License can be used, that proxy's\n",
      "        public statement of acceptance of a version permanently authorizes you\n",
      "        to choose that version for the Program.\n",
      "        \n",
      "          Later license versions may give you additional or different\n",
      "        permissions.  However, no additional obligations are imposed on any\n",
      "        author or copyright holder as a result of your choosing to follow a\n",
      "        later version.\n",
      "        \n",
      "          15. Disclaimer of Warranty.\n",
      "        \n",
      "          THERE IS NO WARRANTY FOR THE PROGRAM, TO THE EXTENT PERMITTED BY\n",
      "        APPLICABLE LAW.  EXCEPT WHEN OTHERWISE STATED IN WRITING THE COPYRIGHT\n",
      "        HOLDERS AND/OR OTHER PARTIES PROVIDE THE PROGRAM \"AS IS\" WITHOUT WARRANTY\n",
      "        OF ANY KIND, EITHER EXPRESSED OR IMPLIED, INCLUDING, BUT NOT LIMITED TO,\n",
      "        THE IMPLIED WARRANTIES OF MERCHANTABILITY AND FITNESS FOR A PARTICULAR\n",
      "        PURPOSE.  THE ENTIRE RISK AS TO THE QUALITY AND PERFORMANCE OF THE PROGRAM\n",
      "        IS WITH YOU.  SHOULD THE PROGRAM PROVE DEFECTIVE, YOU ASSUME THE COST OF\n",
      "        ALL NECESSARY SERVICING, REPAIR OR CORRECTION.\n",
      "        \n",
      "          16. Limitation of Liability.\n",
      "        \n",
      "          IN NO EVENT UNLESS REQUIRED BY APPLICABLE LAW OR AGREED TO IN WRITING\n",
      "        WILL ANY COPYRIGHT HOLDER, OR ANY OTHER PARTY WHO MODIFIES AND/OR CONVEYS\n",
      "        THE PROGRAM AS PERMITTED ABOVE, BE LIABLE TO YOU FOR DAMAGES, INCLUDING ANY\n",
      "        GENERAL, SPECIAL, INCIDENTAL OR CONSEQUENTIAL DAMAGES ARISING OUT OF THE\n",
      "        USE OR INABILITY TO USE THE PROGRAM (INCLUDING BUT NOT LIMITED TO LOSS OF\n",
      "        DATA OR DATA BEING RENDERED INACCURATE OR LOSSES SUSTAINED BY YOU OR THIRD\n",
      "        PARTIES OR A FAILURE OF THE PROGRAM TO OPERATE WITH ANY OTHER PROGRAMS),\n",
      "        EVEN IF SUCH HOLDER OR OTHER PARTY HAS BEEN ADVISED OF THE POSSIBILITY OF\n",
      "        SUCH DAMAGES.\n",
      "        \n",
      "          17. Interpretation of Sections 15 and 16.\n",
      "        \n",
      "          If the disclaimer of warranty and limitation of liability provided\n",
      "        above cannot be given local legal effect according to their terms,\n",
      "        reviewing courts shall apply local law that most closely approximates\n",
      "        an absolute waiver of all civil liability in connection with the\n",
      "        Program, unless a warranty or assumption of liability accompanies a\n",
      "        copy of the Program in return for a fee.\n",
      "        \n",
      "                             END OF TERMS AND CONDITIONS\n",
      "        \n",
      "                    How to Apply These Terms to Your New Programs\n",
      "        \n",
      "          If you develop a new program, and you want it to be of the greatest\n",
      "        possible use to the public, the best way to achieve this is to make it\n",
      "        free software which everyone can redistribute and change under these terms.\n",
      "        \n",
      "          To do so, attach the following notices to the program.  It is safest\n",
      "        to attach them to the start of each source file to most effectively\n",
      "        state the exclusion of warranty; and each file should have at least\n",
      "        the \"copyright\" line and a pointer to where the full notice is found.\n",
      "        \n",
      "            <one line to give the program's name and a brief idea of what it does.>\n",
      "            Copyright (C) <year>  <name of author>\n",
      "        \n",
      "            This program is free software: you can redistribute it and/or modify\n",
      "            it under the terms of the GNU General Public License as published by\n",
      "            the Free Software Foundation, either version 3 of the License, or\n",
      "            (at your option) any later version.\n",
      "        \n",
      "            This program is distributed in the hope that it will be useful,\n",
      "            but WITHOUT ANY WARRANTY; without even the implied warranty of\n",
      "            MERCHANTABILITY or FITNESS FOR A PARTICULAR PURPOSE.  See the\n",
      "            GNU General Public License for more details.\n",
      "        \n",
      "            You should have received a copy of the GNU General Public License\n",
      "            along with this program.  If not, see <http://www.gnu.org/licenses/>.\n",
      "        \n",
      "        Also add information on how to contact you by electronic and paper mail.\n",
      "        \n",
      "          If the program does terminal interaction, make it output a short\n",
      "        notice like this when it starts in an interactive mode:\n",
      "        \n",
      "            <program>  Copyright (C) <year>  <name of author>\n",
      "            This program comes with ABSOLUTELY NO WARRANTY; for details type `show w'.\n",
      "            This is free software, and you are welcome to redistribute it\n",
      "            under certain conditions; type `show c' for details.\n",
      "        \n",
      "        The hypothetical commands `show w' and `show c' should show the appropriate\n",
      "        parts of the General Public License.  Of course, your program's commands\n",
      "        might be different; for a GUI interface, you would use an \"about box\".\n",
      "        \n",
      "          You should also get your employer (if you work as a programmer) or school,\n",
      "        if any, to sign a \"copyright disclaimer\" for the program, if necessary.\n",
      "        For more information on this, and how to apply and follow the GNU GPL, see\n",
      "        <http://www.gnu.org/licenses/>.\n",
      "        \n",
      "          The GNU General Public License does not permit incorporating your program\n",
      "        into proprietary programs.  If your program is a subroutine library, you\n",
      "        may consider it more useful to permit linking proprietary applications with\n",
      "        the library.  If this is what you want to do, use the GNU Lesser General\n",
      "        Public License instead of this License.  But first, please read\n",
      "        <http://www.gnu.org/philosophy/why-not-lgpl.html>.\n",
      "        \n",
      "        Name: libquadmath\n",
      "        Files: numpy.libs/libquadmath*.so\n",
      "        Description: dynamically linked to files compiled with gcc\n",
      "        Availability: https://gcc.gnu.org/git/?p=gcc.git;a=tree;f=libquadmath\n",
      "        License: LGPL-2.1-or-later\n",
      "        \n",
      "            GCC Quad-Precision Math Library\n",
      "            Copyright (C) 2010-2019 Free Software Foundation, Inc.\n",
      "            Written by Francois-Xavier Coudert  <fxcoudert@gcc.gnu.org>\n",
      "        \n",
      "            This file is part of the libquadmath library.\n",
      "            Libquadmath is free software; you can redistribute it and/or\n",
      "            modify it under the terms of the GNU Library General Public\n",
      "            License as published by the Free Software Foundation; either\n",
      "            version 2.1 of the License, or (at your option) any later version.\n",
      "        \n",
      "            Libquadmath is distributed in the hope that it will be useful,\n",
      "            but WITHOUT ANY WARRANTY; without even the implied warranty of\n",
      "            MERCHANTABILITY or FITNESS FOR A PARTICULAR PURPOSE.  See the GNU\n",
      "            Lesser General Public License for more details.\n",
      "            https://www.gnu.org/licenses/old-licenses/lgpl-2.1.html\n",
      "Location: /home/kendra/.local/lib/python3.10/site-packages\n",
      "Requires: \n",
      "Required-by: pandas, yfinance\n",
      "Note: you may need to restart the kernel to use updated packages.\n"
     ]
    }
   ],
   "source": [
    "pip show numpy"
   ]
  },
  {
   "cell_type": "code",
   "execution_count": 18,
   "id": "e2b60aac-3c4f-4a61-85d1-8b2813c59ec3",
   "metadata": {
    "scrolled": true
   },
   "outputs": [
    {
     "name": "stdout",
     "output_type": "stream",
     "text": [
      "Defaulting to user installation because normal site-packages is not writeable\n",
      "Collecting numpy==1.22.4\n",
      "  Downloading numpy-1.22.4-cp310-cp310-manylinux_2_17_x86_64.manylinux2014_x86_64.whl (16.8 MB)\n",
      "\u001b[2K     \u001b[38;2;114;156;31m━━━━━━━━━━━━━━━━━━━━━━━━━━━━━━━━━━━━━━━━\u001b[0m \u001b[32m16.8/16.8 MB\u001b[0m \u001b[31m1.0 MB/s\u001b[0m eta \u001b[36m0:00:00\u001b[0mm eta \u001b[36m0:00:01\u001b[0m[36m0:00:01\u001b[0mm\n",
      "\u001b[?25hInstalling collected packages: numpy\n",
      "  Attempting uninstall: numpy\n",
      "    Found existing installation: numpy 1.21.6\n",
      "    Uninstalling numpy-1.21.6:\n",
      "      Successfully uninstalled numpy-1.21.6\n",
      "Successfully installed numpy-1.22.4\n",
      "Note: you may need to restart the kernel to use updated packages.\n"
     ]
    }
   ],
   "source": [
    "pip install numpy==1.22.4"
   ]
  },
  {
   "cell_type": "code",
   "execution_count": 19,
   "id": "8f3ae9bc-31a5-40f0-a253-8c0d2567ac23",
   "metadata": {
    "scrolled": true
   },
   "outputs": [
    {
     "name": "stderr",
     "output_type": "stream",
     "text": [
      "\n",
      "A module that was compiled using NumPy 1.x cannot be run in\n",
      "NumPy 2.0.0 as it may crash. To support both 1.x and 2.x\n",
      "versions of NumPy, modules must be compiled with NumPy 2.0.\n",
      "Some module may need to rebuild instead e.g. with 'pybind11>=2.12'.\n",
      "\n",
      "If you are a user of the module, the easiest solution will be to\n",
      "downgrade to 'numpy<2' or try to upgrade the affected module.\n",
      "We expect that some modules will need time to support NumPy 2.\n",
      "\n",
      "Traceback (most recent call last):  File \"/usr/lib/python3.10/runpy.py\", line 196, in _run_module_as_main\n",
      "    return _run_code(code, main_globals, None,\n",
      "  File \"/usr/lib/python3.10/runpy.py\", line 86, in _run_code\n",
      "    exec(code, run_globals)\n",
      "  File \"/home/kendra/.local/lib/python3.10/site-packages/ipykernel_launcher.py\", line 18, in <module>\n",
      "    app.launch_new_instance()\n",
      "  File \"/home/kendra/.local/lib/python3.10/site-packages/traitlets/config/application.py\", line 1075, in launch_instance\n",
      "    app.start()\n",
      "  File \"/home/kendra/.local/lib/python3.10/site-packages/ipykernel/kernelapp.py\", line 739, in start\n",
      "    self.io_loop.start()\n",
      "  File \"/home/kendra/.local/lib/python3.10/site-packages/tornado/platform/asyncio.py\", line 205, in start\n",
      "    self.asyncio_loop.run_forever()\n",
      "  File \"/usr/lib/python3.10/asyncio/base_events.py\", line 603, in run_forever\n",
      "    self._run_once()\n",
      "  File \"/usr/lib/python3.10/asyncio/base_events.py\", line 1909, in _run_once\n",
      "    handle._run()\n",
      "  File \"/usr/lib/python3.10/asyncio/events.py\", line 80, in _run\n",
      "    self._context.run(self._callback, *self._args)\n",
      "  File \"/home/kendra/.local/lib/python3.10/site-packages/ipykernel/kernelbase.py\", line 545, in dispatch_queue\n",
      "    await self.process_one()\n",
      "  File \"/home/kendra/.local/lib/python3.10/site-packages/ipykernel/kernelbase.py\", line 534, in process_one\n",
      "    await dispatch(*args)\n",
      "  File \"/home/kendra/.local/lib/python3.10/site-packages/ipykernel/kernelbase.py\", line 437, in dispatch_shell\n",
      "    await result\n",
      "  File \"/home/kendra/.local/lib/python3.10/site-packages/ipykernel/ipkernel.py\", line 362, in execute_request\n",
      "    await super().execute_request(stream, ident, parent)\n",
      "  File \"/home/kendra/.local/lib/python3.10/site-packages/ipykernel/kernelbase.py\", line 778, in execute_request\n",
      "    reply_content = await reply_content\n",
      "  File \"/home/kendra/.local/lib/python3.10/site-packages/ipykernel/ipkernel.py\", line 456, in do_execute\n",
      "    res = shell.run_cell(code, store_history=store_history, silent=silent)\n",
      "  File \"/home/kendra/.local/lib/python3.10/site-packages/ipykernel/zmqshell.py\", line 549, in run_cell\n",
      "    return super().run_cell(*args, **kwargs)\n",
      "  File \"/usr/lib/python3/dist-packages/IPython/core/interactiveshell.py\", line 2914, in run_cell\n",
      "    result = self._run_cell(\n",
      "  File \"/usr/lib/python3/dist-packages/IPython/core/interactiveshell.py\", line 2960, in _run_cell\n",
      "    return runner(coro)\n",
      "  File \"/usr/lib/python3/dist-packages/IPython/core/async_helpers.py\", line 78, in _pseudo_sync_runner\n",
      "    coro.send(None)\n",
      "  File \"/usr/lib/python3/dist-packages/IPython/core/interactiveshell.py\", line 3185, in run_cell_async\n",
      "    has_raised = await self.run_ast_nodes(code_ast.body, cell_name,\n",
      "  File \"/usr/lib/python3/dist-packages/IPython/core/interactiveshell.py\", line 3377, in run_ast_nodes\n",
      "    if (await self.run_code(code, result,  async_=asy)):\n",
      "  File \"/usr/lib/python3/dist-packages/IPython/core/interactiveshell.py\", line 3457, in run_code\n",
      "    exec(code_obj, self.user_global_ns, self.user_ns)\n",
      "  File \"/tmp/ipykernel_12695/3608795011.py\", line 2, in <module>\n",
      "    import matplotlib.pyplot as plt\n",
      "  File \"/usr/lib/python3/dist-packages/matplotlib/__init__.py\", line 109, in <module>\n",
      "    from . import _api, _version, cbook, docstring, rcsetup\n",
      "  File \"/usr/lib/python3/dist-packages/matplotlib/rcsetup.py\", line 27, in <module>\n",
      "    from matplotlib.colors import Colormap, is_color_like\n",
      "  File \"/usr/lib/python3/dist-packages/matplotlib/colors.py\", line 56, in <module>\n",
      "    from matplotlib import _api, cbook, scale\n",
      "  File \"/usr/lib/python3/dist-packages/matplotlib/scale.py\", line 23, in <module>\n",
      "    from matplotlib.ticker import (\n",
      "  File \"/usr/lib/python3/dist-packages/matplotlib/ticker.py\", line 136, in <module>\n",
      "    from matplotlib import transforms as mtransforms\n",
      "  File \"/usr/lib/python3/dist-packages/matplotlib/transforms.py\", line 46, in <module>\n",
      "    from matplotlib._path import (\n"
     ]
    },
    {
     "ename": "AttributeError",
     "evalue": "_ARRAY_API not found",
     "output_type": "error",
     "traceback": [
      "\u001b[0;31m---------------------------------------------------------------------------\u001b[0m",
      "\u001b[0;31mAttributeError\u001b[0m                            Traceback (most recent call last)",
      "\u001b[0;31mAttributeError\u001b[0m: _ARRAY_API not found"
     ]
    },
    {
     "ename": "ImportError",
     "evalue": "numpy.core.multiarray failed to import",
     "output_type": "error",
     "traceback": [
      "\u001b[0;31m---------------------------------------------------------------------------\u001b[0m",
      "\u001b[0;31mImportError\u001b[0m                               Traceback (most recent call last)",
      "\u001b[0;32m/tmp/ipykernel_12695/3608795011.py\u001b[0m in \u001b[0;36m<module>\u001b[0;34m\u001b[0m\n\u001b[1;32m      1\u001b[0m \u001b[0;32mimport\u001b[0m \u001b[0mpandas\u001b[0m \u001b[0;32mas\u001b[0m \u001b[0mpd\u001b[0m\u001b[0;34m\u001b[0m\u001b[0;34m\u001b[0m\u001b[0m\n\u001b[0;32m----> 2\u001b[0;31m \u001b[0;32mimport\u001b[0m \u001b[0mmatplotlib\u001b[0m\u001b[0;34m.\u001b[0m\u001b[0mpyplot\u001b[0m \u001b[0;32mas\u001b[0m \u001b[0mplt\u001b[0m\u001b[0;34m\u001b[0m\u001b[0;34m\u001b[0m\u001b[0m\n\u001b[0m\u001b[1;32m      3\u001b[0m data = {\n\u001b[1;32m      4\u001b[0m     'Catholic': ['Genesis', 'Exodus', 'Leviticus', 'Numbers', 'Deuteronomy', 'Joshua', 'Judges', 'Ruth', \n\u001b[1;32m      5\u001b[0m                  \u001b[0;34m'1 Samuel'\u001b[0m\u001b[0;34m,\u001b[0m \u001b[0;34m'2 Samuel'\u001b[0m\u001b[0;34m,\u001b[0m \u001b[0;34m'1 Kings'\u001b[0m\u001b[0;34m,\u001b[0m \u001b[0;34m'2 Kings'\u001b[0m\u001b[0;34m,\u001b[0m \u001b[0;34m'1 Chronicles'\u001b[0m\u001b[0;34m,\u001b[0m \u001b[0;34m'2 Chronicles'\u001b[0m\u001b[0;34m,\u001b[0m \u001b[0;34m'Ezra'\u001b[0m\u001b[0;34m,\u001b[0m\u001b[0;34m\u001b[0m\u001b[0;34m\u001b[0m\u001b[0m\n",
      "\u001b[0;32m/usr/lib/python3/dist-packages/matplotlib/__init__.py\u001b[0m in \u001b[0;36m<module>\u001b[0;34m\u001b[0m\n\u001b[1;32m    107\u001b[0m \u001b[0;31m# cbook must import matplotlib only within function\u001b[0m\u001b[0;34m\u001b[0m\u001b[0;34m\u001b[0m\u001b[0m\n\u001b[1;32m    108\u001b[0m \u001b[0;31m# definitions, so it is safe to import from it here.\u001b[0m\u001b[0;34m\u001b[0m\u001b[0;34m\u001b[0m\u001b[0m\n\u001b[0;32m--> 109\u001b[0;31m \u001b[0;32mfrom\u001b[0m \u001b[0;34m.\u001b[0m \u001b[0;32mimport\u001b[0m \u001b[0m_api\u001b[0m\u001b[0;34m,\u001b[0m \u001b[0m_version\u001b[0m\u001b[0;34m,\u001b[0m \u001b[0mcbook\u001b[0m\u001b[0;34m,\u001b[0m \u001b[0mdocstring\u001b[0m\u001b[0;34m,\u001b[0m \u001b[0mrcsetup\u001b[0m\u001b[0;34m\u001b[0m\u001b[0;34m\u001b[0m\u001b[0m\n\u001b[0m\u001b[1;32m    110\u001b[0m \u001b[0;32mfrom\u001b[0m \u001b[0mmatplotlib\u001b[0m\u001b[0;34m.\u001b[0m\u001b[0mcbook\u001b[0m \u001b[0;32mimport\u001b[0m \u001b[0mMatplotlibDeprecationWarning\u001b[0m\u001b[0;34m,\u001b[0m \u001b[0msanitize_sequence\u001b[0m\u001b[0;34m\u001b[0m\u001b[0;34m\u001b[0m\u001b[0m\n\u001b[1;32m    111\u001b[0m \u001b[0;32mfrom\u001b[0m \u001b[0mmatplotlib\u001b[0m\u001b[0;34m.\u001b[0m\u001b[0mcbook\u001b[0m \u001b[0;32mimport\u001b[0m \u001b[0mmplDeprecation\u001b[0m  \u001b[0;31m# deprecated\u001b[0m\u001b[0;34m\u001b[0m\u001b[0;34m\u001b[0m\u001b[0m\n",
      "\u001b[0;32m/usr/lib/python3/dist-packages/matplotlib/rcsetup.py\u001b[0m in \u001b[0;36m<module>\u001b[0;34m\u001b[0m\n\u001b[1;32m     25\u001b[0m \u001b[0;32mfrom\u001b[0m \u001b[0mmatplotlib\u001b[0m \u001b[0;32mimport\u001b[0m \u001b[0m_api\u001b[0m\u001b[0;34m,\u001b[0m \u001b[0mcbook\u001b[0m\u001b[0;34m\u001b[0m\u001b[0;34m\u001b[0m\u001b[0m\n\u001b[1;32m     26\u001b[0m \u001b[0;32mfrom\u001b[0m \u001b[0mmatplotlib\u001b[0m\u001b[0;34m.\u001b[0m\u001b[0mcbook\u001b[0m \u001b[0;32mimport\u001b[0m \u001b[0mls_mapper\u001b[0m\u001b[0;34m\u001b[0m\u001b[0;34m\u001b[0m\u001b[0m\n\u001b[0;32m---> 27\u001b[0;31m \u001b[0;32mfrom\u001b[0m \u001b[0mmatplotlib\u001b[0m\u001b[0;34m.\u001b[0m\u001b[0mcolors\u001b[0m \u001b[0;32mimport\u001b[0m \u001b[0mColormap\u001b[0m\u001b[0;34m,\u001b[0m \u001b[0mis_color_like\u001b[0m\u001b[0;34m\u001b[0m\u001b[0;34m\u001b[0m\u001b[0m\n\u001b[0m\u001b[1;32m     28\u001b[0m \u001b[0;32mfrom\u001b[0m \u001b[0mmatplotlib\u001b[0m\u001b[0;34m.\u001b[0m\u001b[0mfontconfig_pattern\u001b[0m \u001b[0;32mimport\u001b[0m \u001b[0mparse_fontconfig_pattern\u001b[0m\u001b[0;34m\u001b[0m\u001b[0;34m\u001b[0m\u001b[0m\n\u001b[1;32m     29\u001b[0m \u001b[0;32mfrom\u001b[0m \u001b[0mmatplotlib\u001b[0m\u001b[0;34m.\u001b[0m\u001b[0m_enums\u001b[0m \u001b[0;32mimport\u001b[0m \u001b[0mJoinStyle\u001b[0m\u001b[0;34m,\u001b[0m \u001b[0mCapStyle\u001b[0m\u001b[0;34m\u001b[0m\u001b[0;34m\u001b[0m\u001b[0m\n",
      "\u001b[0;32m/usr/lib/python3/dist-packages/matplotlib/colors.py\u001b[0m in \u001b[0;36m<module>\u001b[0;34m\u001b[0m\n\u001b[1;32m     54\u001b[0m \u001b[0;32mimport\u001b[0m \u001b[0mmatplotlib\u001b[0m \u001b[0;32mas\u001b[0m \u001b[0mmpl\u001b[0m\u001b[0;34m\u001b[0m\u001b[0;34m\u001b[0m\u001b[0m\n\u001b[1;32m     55\u001b[0m \u001b[0;32mimport\u001b[0m \u001b[0mnumpy\u001b[0m \u001b[0;32mas\u001b[0m \u001b[0mnp\u001b[0m\u001b[0;34m\u001b[0m\u001b[0;34m\u001b[0m\u001b[0m\n\u001b[0;32m---> 56\u001b[0;31m \u001b[0;32mfrom\u001b[0m \u001b[0mmatplotlib\u001b[0m \u001b[0;32mimport\u001b[0m \u001b[0m_api\u001b[0m\u001b[0;34m,\u001b[0m \u001b[0mcbook\u001b[0m\u001b[0;34m,\u001b[0m \u001b[0mscale\u001b[0m\u001b[0;34m\u001b[0m\u001b[0;34m\u001b[0m\u001b[0m\n\u001b[0m\u001b[1;32m     57\u001b[0m \u001b[0;32mfrom\u001b[0m \u001b[0;34m.\u001b[0m\u001b[0m_color_data\u001b[0m \u001b[0;32mimport\u001b[0m \u001b[0mBASE_COLORS\u001b[0m\u001b[0;34m,\u001b[0m \u001b[0mTABLEAU_COLORS\u001b[0m\u001b[0;34m,\u001b[0m \u001b[0mCSS4_COLORS\u001b[0m\u001b[0;34m,\u001b[0m \u001b[0mXKCD_COLORS\u001b[0m\u001b[0;34m\u001b[0m\u001b[0;34m\u001b[0m\u001b[0m\n\u001b[1;32m     58\u001b[0m \u001b[0;34m\u001b[0m\u001b[0m\n",
      "\u001b[0;32m/usr/lib/python3/dist-packages/matplotlib/scale.py\u001b[0m in \u001b[0;36m<module>\u001b[0;34m\u001b[0m\n\u001b[1;32m     21\u001b[0m \u001b[0;32mimport\u001b[0m \u001b[0mmatplotlib\u001b[0m \u001b[0;32mas\u001b[0m \u001b[0mmpl\u001b[0m\u001b[0;34m\u001b[0m\u001b[0;34m\u001b[0m\u001b[0m\n\u001b[1;32m     22\u001b[0m \u001b[0;32mfrom\u001b[0m \u001b[0mmatplotlib\u001b[0m \u001b[0;32mimport\u001b[0m \u001b[0m_api\u001b[0m\u001b[0;34m,\u001b[0m \u001b[0mdocstring\u001b[0m\u001b[0;34m\u001b[0m\u001b[0;34m\u001b[0m\u001b[0m\n\u001b[0;32m---> 23\u001b[0;31m from matplotlib.ticker import (\n\u001b[0m\u001b[1;32m     24\u001b[0m     \u001b[0mNullFormatter\u001b[0m\u001b[0;34m,\u001b[0m \u001b[0mScalarFormatter\u001b[0m\u001b[0;34m,\u001b[0m \u001b[0mLogFormatterSciNotation\u001b[0m\u001b[0;34m,\u001b[0m \u001b[0mLogitFormatter\u001b[0m\u001b[0;34m,\u001b[0m\u001b[0;34m\u001b[0m\u001b[0;34m\u001b[0m\u001b[0m\n\u001b[1;32m     25\u001b[0m     \u001b[0mNullLocator\u001b[0m\u001b[0;34m,\u001b[0m \u001b[0mLogLocator\u001b[0m\u001b[0;34m,\u001b[0m \u001b[0mAutoLocator\u001b[0m\u001b[0;34m,\u001b[0m \u001b[0mAutoMinorLocator\u001b[0m\u001b[0;34m,\u001b[0m\u001b[0;34m\u001b[0m\u001b[0;34m\u001b[0m\u001b[0m\n",
      "\u001b[0;32m/usr/lib/python3/dist-packages/matplotlib/ticker.py\u001b[0m in \u001b[0;36m<module>\u001b[0;34m\u001b[0m\n\u001b[1;32m    134\u001b[0m \u001b[0;32mimport\u001b[0m \u001b[0mmatplotlib\u001b[0m \u001b[0;32mas\u001b[0m \u001b[0mmpl\u001b[0m\u001b[0;34m\u001b[0m\u001b[0;34m\u001b[0m\u001b[0m\n\u001b[1;32m    135\u001b[0m \u001b[0;32mfrom\u001b[0m \u001b[0mmatplotlib\u001b[0m \u001b[0;32mimport\u001b[0m \u001b[0m_api\u001b[0m\u001b[0;34m,\u001b[0m \u001b[0mcbook\u001b[0m\u001b[0;34m\u001b[0m\u001b[0;34m\u001b[0m\u001b[0m\n\u001b[0;32m--> 136\u001b[0;31m \u001b[0;32mfrom\u001b[0m \u001b[0mmatplotlib\u001b[0m \u001b[0;32mimport\u001b[0m \u001b[0mtransforms\u001b[0m \u001b[0;32mas\u001b[0m \u001b[0mmtransforms\u001b[0m\u001b[0;34m\u001b[0m\u001b[0;34m\u001b[0m\u001b[0m\n\u001b[0m\u001b[1;32m    137\u001b[0m \u001b[0;34m\u001b[0m\u001b[0m\n\u001b[1;32m    138\u001b[0m \u001b[0m_log\u001b[0m \u001b[0;34m=\u001b[0m \u001b[0mlogging\u001b[0m\u001b[0;34m.\u001b[0m\u001b[0mgetLogger\u001b[0m\u001b[0;34m(\u001b[0m\u001b[0m__name__\u001b[0m\u001b[0;34m)\u001b[0m\u001b[0;34m\u001b[0m\u001b[0;34m\u001b[0m\u001b[0m\n",
      "\u001b[0;32m/usr/lib/python3/dist-packages/matplotlib/transforms.py\u001b[0m in \u001b[0;36m<module>\u001b[0;34m\u001b[0m\n\u001b[1;32m     44\u001b[0m \u001b[0;34m\u001b[0m\u001b[0m\n\u001b[1;32m     45\u001b[0m \u001b[0;32mfrom\u001b[0m \u001b[0mmatplotlib\u001b[0m \u001b[0;32mimport\u001b[0m \u001b[0m_api\u001b[0m\u001b[0;34m\u001b[0m\u001b[0;34m\u001b[0m\u001b[0m\n\u001b[0;32m---> 46\u001b[0;31m from matplotlib._path import (\n\u001b[0m\u001b[1;32m     47\u001b[0m     affine_transform, count_bboxes_overlapping_bbox, update_path_extents)\n\u001b[1;32m     48\u001b[0m \u001b[0;32mfrom\u001b[0m \u001b[0;34m.\u001b[0m\u001b[0mpath\u001b[0m \u001b[0;32mimport\u001b[0m \u001b[0mPath\u001b[0m\u001b[0;34m\u001b[0m\u001b[0;34m\u001b[0m\u001b[0m\n",
      "\u001b[0;31mImportError\u001b[0m: numpy.core.multiarray failed to import"
     ]
    }
   ],
   "source": [
    "import pandas as pd\n",
    "import matplotlib.pyplot as plt\n",
    "data = {\n",
    "    'Catholic': ['Genesis', 'Exodus', 'Leviticus', 'Numbers', 'Deuteronomy', 'Joshua', 'Judges', 'Ruth', \n",
    "                 '1 Samuel', '2 Samuel', '1 Kings', '2 Kings', '1 Chronicles', '2 Chronicles', 'Ezra', \n",
    "                 'Nehemiah', 'Tobit', 'Judith', 'Esther', '1 Maccabees', '2 Maccabees', 'Job', 'Psalms', \n",
    "                 'Proverbs', 'Ecclesiastes', 'Song of Songs', 'Wisdom', 'Ecclesiasticus/Sirach', 'Isaiah', \n",
    "                 'Jeremiah', 'Lamentations', 'Baruch', 'Ezekiel', 'Daniel', 'Hosea', 'Joel', 'Amos', \n",
    "                 'Obadiah', 'Jonah', 'Micah', 'Nahum', 'Habakkuk', 'Zephaniah', 'Haggai', 'Zechariah', \n",
    "                 'Matthew', 'Mark', 'Luke', 'John', 'Acts of the Apostles', 'Romans', '1 Corinthians', \n",
    "                 '2 Corinthians', 'Galatians', 'Ephesians', 'Philippians', 'Colossians', '1 Thessalonians', \n",
    "                 '2 Thessalonians', '1 Timothy', '2 Timothy', 'Titus', 'Philemon', 'Hebrews', 'James', \n",
    "                 '1 Peter', '2 Peter', '1 John', '2 John', '3 John', 'Jude', 'Revelation'],\n",
    "    'Orthodox': ['Genesis', 'Exodus', 'Leviticus', 'Numbers', 'Deuteronomy', 'Joshua', 'Judges', 'Ruth', \n",
    "                 '1 Samuel', '2 Samuel', '1 Kings', '2 Kings', '1 Chronicles', '2 Chronicles', 'Ezra', \n",
    "                 'Nehemiah', 'Esther', 'Job', 'Psalms', 'Proverbs', 'Ecclesiastes', 'Song of Solomon', \n",
    "                 'Isaiah', 'Jeremiah', 'Lamentations', 'Ezekiel', 'Daniel', 'Hosea', 'Joel', 'Amos', \n",
    "                 'Obadiah', 'Jonah', 'Micah', 'Nahum', 'Habakkuk', 'Zephaniah', 'Haggai', 'Zechariah', \n",
    "                 'Malachi', 'Matthew', 'Mark', 'Luke', 'John', 'Acts', 'Romans', '1 Corinthians', \n",
    "                 '2 Corinthians', 'Galatians', 'Ephesians', 'Philippians', 'Colossians', '1 Thessalonians', \n",
    "                 '2 Thessalonians', '1 Timothy', '2 Timothy', 'Titus', 'Philemon', 'Hebrews', 'James', \n",
    "                 '1 Peter', '2 Peter', '1 John', '2 John', '3 John', 'Jude', 'Revelation']\n",
    "}\n",
    "catholic_set = set(data['Catholic'])\n",
    "orthodox_set = set(data['Orthodox'])\n",
    "shared_books = len(catholic_set & orthodox_set)\n",
    "catholic_unique = len(catholic_set - orthodox_set)\n",
    "orthodox_unique = len(orthodox_set - catholic_set)\n",
    "categories = ['Shared Books', 'Catholic Only', 'Orthodox Only']\n",
    "values = {\n",
    "    'Catholic': [shared_books, catholic_unique, 0],\n",
    "    'Orthodox': [shared_books, 0, orthodox_unique]\n",
    "}\n",
    "df = pd.DataFrame(values, index=categories)\n",
    "plt.figure(figsize=(10, 6))\n",
    "plt.stackplot(categories, df['Catholic'], df['Orthodox'], labels=df.columns, alpha=0.8)\n",
    "plt.title('Comparison of Catholic and Orthodox Bible Books')\n",
    "plt.xlabel('Category')\n",
    "plt.ylabel('Number of Books')\n",
    "plt.legend(loc='upper left')\n",
    "plt.show()"
   ]
  },
  {
   "cell_type": "code",
   "execution_count": null,
   "id": "c26ff3e1-3f44-470b-8daa-1b97ccbcbdd0",
   "metadata": {},
   "outputs": [],
   "source": []
  }
 ],
 "metadata": {
  "kernelspec": {
   "display_name": "Python 3 (ipykernel)",
   "language": "python",
   "name": "python3"
  },
  "language_info": {
   "codemirror_mode": {
    "name": "ipython",
    "version": 3
   },
   "file_extension": ".py",
   "mimetype": "text/x-python",
   "name": "python",
   "nbconvert_exporter": "python",
   "pygments_lexer": "ipython3",
   "version": "3.10.12"
  }
 },
 "nbformat": 4,
 "nbformat_minor": 5
}
